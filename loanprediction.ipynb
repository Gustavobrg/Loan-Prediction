{
  "nbformat": 4,
  "nbformat_minor": 0,
  "metadata": {
    "colab": {
      "name": "loanprediction.ipynb",
      "provenance": [],
      "collapsed_sections": []
    },
    "kernelspec": {
      "name": "python3",
      "display_name": "Python 3"
    }
  },
  "cells": [
    {
      "cell_type": "code",
      "metadata": {
        "id": "qquQtxM7abhv",
        "colab_type": "code",
        "colab": {
          "base_uri": "https://localhost:8080/",
          "height": 71
        },
        "outputId": "64d9a8a2-ac66-4bfb-ddb4-0c9bb49d00c8"
      },
      "source": [
        "#Importar bibliotecas\n",
        "\n",
        "import pandas as pd\n",
        "import numpy as np\n",
        "import seaborn as sns"
      ],
      "execution_count": 1,
      "outputs": [
        {
          "output_type": "stream",
          "text": [
            "/usr/local/lib/python3.6/dist-packages/statsmodels/tools/_testing.py:19: FutureWarning: pandas.util.testing is deprecated. Use the functions in the public API at pandas.testing instead.\n",
            "  import pandas.util.testing as tm\n"
          ],
          "name": "stderr"
        }
      ]
    },
    {
      "cell_type": "markdown",
      "metadata": {
        "id": "KSbNsAJzQY7c",
        "colab_type": "text"
      },
      "source": [
        "#Exploração de dados\n",
        "\n"
      ]
    },
    {
      "cell_type": "code",
      "metadata": {
        "id": "ldWGm5hkatuR",
        "colab_type": "code",
        "colab": {}
      },
      "source": [
        "#Carregar os datasets\n",
        "train = pd.read_csv('/content/drive/My Drive/Data Loan/train.csv')\n",
        "test = pd.read_csv('/content/drive/My Drive/Data Loan/test.csv')"
      ],
      "execution_count": 2,
      "outputs": []
    },
    {
      "cell_type": "markdown",
      "metadata": {
        "id": "CCclWqOrOQqc",
        "colab_type": "text"
      },
      "source": [
        "Shape of the dataset"
      ]
    },
    {
      "cell_type": "code",
      "metadata": {
        "id": "E0clljADfxqK",
        "colab_type": "code",
        "colab": {
          "base_uri": "https://localhost:8080/",
          "height": 258
        },
        "outputId": "a78bd36e-aa27-4702-c0ef-b563732c2060"
      },
      "source": [
        "print(train.shape)\n",
        "train.head()"
      ],
      "execution_count": 3,
      "outputs": [
        {
          "output_type": "stream",
          "text": [
            "(614, 13)\n"
          ],
          "name": "stdout"
        },
        {
          "output_type": "execute_result",
          "data": {
            "text/html": [
              "<div>\n",
              "<style scoped>\n",
              "    .dataframe tbody tr th:only-of-type {\n",
              "        vertical-align: middle;\n",
              "    }\n",
              "\n",
              "    .dataframe tbody tr th {\n",
              "        vertical-align: top;\n",
              "    }\n",
              "\n",
              "    .dataframe thead th {\n",
              "        text-align: right;\n",
              "    }\n",
              "</style>\n",
              "<table border=\"1\" class=\"dataframe\">\n",
              "  <thead>\n",
              "    <tr style=\"text-align: right;\">\n",
              "      <th></th>\n",
              "      <th>Loan_ID</th>\n",
              "      <th>Gender</th>\n",
              "      <th>Married</th>\n",
              "      <th>Dependents</th>\n",
              "      <th>Education</th>\n",
              "      <th>Self_Employed</th>\n",
              "      <th>ApplicantIncome</th>\n",
              "      <th>CoapplicantIncome</th>\n",
              "      <th>LoanAmount</th>\n",
              "      <th>Loan_Amount_Term</th>\n",
              "      <th>Credit_History</th>\n",
              "      <th>Property_Area</th>\n",
              "      <th>Loan_Status</th>\n",
              "    </tr>\n",
              "  </thead>\n",
              "  <tbody>\n",
              "    <tr>\n",
              "      <th>0</th>\n",
              "      <td>LP001002</td>\n",
              "      <td>Male</td>\n",
              "      <td>No</td>\n",
              "      <td>0</td>\n",
              "      <td>Graduate</td>\n",
              "      <td>No</td>\n",
              "      <td>5849</td>\n",
              "      <td>0.0</td>\n",
              "      <td>NaN</td>\n",
              "      <td>360.0</td>\n",
              "      <td>1.0</td>\n",
              "      <td>Urban</td>\n",
              "      <td>Y</td>\n",
              "    </tr>\n",
              "    <tr>\n",
              "      <th>1</th>\n",
              "      <td>LP001003</td>\n",
              "      <td>Male</td>\n",
              "      <td>Yes</td>\n",
              "      <td>1</td>\n",
              "      <td>Graduate</td>\n",
              "      <td>No</td>\n",
              "      <td>4583</td>\n",
              "      <td>1508.0</td>\n",
              "      <td>128.0</td>\n",
              "      <td>360.0</td>\n",
              "      <td>1.0</td>\n",
              "      <td>Rural</td>\n",
              "      <td>N</td>\n",
              "    </tr>\n",
              "    <tr>\n",
              "      <th>2</th>\n",
              "      <td>LP001005</td>\n",
              "      <td>Male</td>\n",
              "      <td>Yes</td>\n",
              "      <td>0</td>\n",
              "      <td>Graduate</td>\n",
              "      <td>Yes</td>\n",
              "      <td>3000</td>\n",
              "      <td>0.0</td>\n",
              "      <td>66.0</td>\n",
              "      <td>360.0</td>\n",
              "      <td>1.0</td>\n",
              "      <td>Urban</td>\n",
              "      <td>Y</td>\n",
              "    </tr>\n",
              "    <tr>\n",
              "      <th>3</th>\n",
              "      <td>LP001006</td>\n",
              "      <td>Male</td>\n",
              "      <td>Yes</td>\n",
              "      <td>0</td>\n",
              "      <td>Not Graduate</td>\n",
              "      <td>No</td>\n",
              "      <td>2583</td>\n",
              "      <td>2358.0</td>\n",
              "      <td>120.0</td>\n",
              "      <td>360.0</td>\n",
              "      <td>1.0</td>\n",
              "      <td>Urban</td>\n",
              "      <td>Y</td>\n",
              "    </tr>\n",
              "    <tr>\n",
              "      <th>4</th>\n",
              "      <td>LP001008</td>\n",
              "      <td>Male</td>\n",
              "      <td>No</td>\n",
              "      <td>0</td>\n",
              "      <td>Graduate</td>\n",
              "      <td>No</td>\n",
              "      <td>6000</td>\n",
              "      <td>0.0</td>\n",
              "      <td>141.0</td>\n",
              "      <td>360.0</td>\n",
              "      <td>1.0</td>\n",
              "      <td>Urban</td>\n",
              "      <td>Y</td>\n",
              "    </tr>\n",
              "  </tbody>\n",
              "</table>\n",
              "</div>"
            ],
            "text/plain": [
              "    Loan_ID Gender Married  ... Credit_History Property_Area Loan_Status\n",
              "0  LP001002   Male      No  ...            1.0         Urban           Y\n",
              "1  LP001003   Male     Yes  ...            1.0         Rural           N\n",
              "2  LP001005   Male     Yes  ...            1.0         Urban           Y\n",
              "3  LP001006   Male     Yes  ...            1.0         Urban           Y\n",
              "4  LP001008   Male      No  ...            1.0         Urban           Y\n",
              "\n",
              "[5 rows x 13 columns]"
            ]
          },
          "metadata": {
            "tags": []
          },
          "execution_count": 3
        }
      ]
    },
    {
      "cell_type": "code",
      "metadata": {
        "id": "oPkmcyajf8hH",
        "colab_type": "code",
        "colab": {
          "base_uri": "https://localhost:8080/",
          "height": 258
        },
        "outputId": "ebf32416-6567-4c00-814d-9267efd24d76"
      },
      "source": [
        "print(test.shape)\n",
        "test.head()"
      ],
      "execution_count": 4,
      "outputs": [
        {
          "output_type": "stream",
          "text": [
            "(367, 12)\n"
          ],
          "name": "stdout"
        },
        {
          "output_type": "execute_result",
          "data": {
            "text/html": [
              "<div>\n",
              "<style scoped>\n",
              "    .dataframe tbody tr th:only-of-type {\n",
              "        vertical-align: middle;\n",
              "    }\n",
              "\n",
              "    .dataframe tbody tr th {\n",
              "        vertical-align: top;\n",
              "    }\n",
              "\n",
              "    .dataframe thead th {\n",
              "        text-align: right;\n",
              "    }\n",
              "</style>\n",
              "<table border=\"1\" class=\"dataframe\">\n",
              "  <thead>\n",
              "    <tr style=\"text-align: right;\">\n",
              "      <th></th>\n",
              "      <th>Loan_ID</th>\n",
              "      <th>Gender</th>\n",
              "      <th>Married</th>\n",
              "      <th>Dependents</th>\n",
              "      <th>Education</th>\n",
              "      <th>Self_Employed</th>\n",
              "      <th>ApplicantIncome</th>\n",
              "      <th>CoapplicantIncome</th>\n",
              "      <th>LoanAmount</th>\n",
              "      <th>Loan_Amount_Term</th>\n",
              "      <th>Credit_History</th>\n",
              "      <th>Property_Area</th>\n",
              "    </tr>\n",
              "  </thead>\n",
              "  <tbody>\n",
              "    <tr>\n",
              "      <th>0</th>\n",
              "      <td>LP001015</td>\n",
              "      <td>Male</td>\n",
              "      <td>Yes</td>\n",
              "      <td>0</td>\n",
              "      <td>Graduate</td>\n",
              "      <td>No</td>\n",
              "      <td>5720</td>\n",
              "      <td>0</td>\n",
              "      <td>110.0</td>\n",
              "      <td>360.0</td>\n",
              "      <td>1.0</td>\n",
              "      <td>Urban</td>\n",
              "    </tr>\n",
              "    <tr>\n",
              "      <th>1</th>\n",
              "      <td>LP001022</td>\n",
              "      <td>Male</td>\n",
              "      <td>Yes</td>\n",
              "      <td>1</td>\n",
              "      <td>Graduate</td>\n",
              "      <td>No</td>\n",
              "      <td>3076</td>\n",
              "      <td>1500</td>\n",
              "      <td>126.0</td>\n",
              "      <td>360.0</td>\n",
              "      <td>1.0</td>\n",
              "      <td>Urban</td>\n",
              "    </tr>\n",
              "    <tr>\n",
              "      <th>2</th>\n",
              "      <td>LP001031</td>\n",
              "      <td>Male</td>\n",
              "      <td>Yes</td>\n",
              "      <td>2</td>\n",
              "      <td>Graduate</td>\n",
              "      <td>No</td>\n",
              "      <td>5000</td>\n",
              "      <td>1800</td>\n",
              "      <td>208.0</td>\n",
              "      <td>360.0</td>\n",
              "      <td>1.0</td>\n",
              "      <td>Urban</td>\n",
              "    </tr>\n",
              "    <tr>\n",
              "      <th>3</th>\n",
              "      <td>LP001035</td>\n",
              "      <td>Male</td>\n",
              "      <td>Yes</td>\n",
              "      <td>2</td>\n",
              "      <td>Graduate</td>\n",
              "      <td>No</td>\n",
              "      <td>2340</td>\n",
              "      <td>2546</td>\n",
              "      <td>100.0</td>\n",
              "      <td>360.0</td>\n",
              "      <td>NaN</td>\n",
              "      <td>Urban</td>\n",
              "    </tr>\n",
              "    <tr>\n",
              "      <th>4</th>\n",
              "      <td>LP001051</td>\n",
              "      <td>Male</td>\n",
              "      <td>No</td>\n",
              "      <td>0</td>\n",
              "      <td>Not Graduate</td>\n",
              "      <td>No</td>\n",
              "      <td>3276</td>\n",
              "      <td>0</td>\n",
              "      <td>78.0</td>\n",
              "      <td>360.0</td>\n",
              "      <td>1.0</td>\n",
              "      <td>Urban</td>\n",
              "    </tr>\n",
              "  </tbody>\n",
              "</table>\n",
              "</div>"
            ],
            "text/plain": [
              "    Loan_ID Gender Married  ... Loan_Amount_Term Credit_History Property_Area\n",
              "0  LP001015   Male     Yes  ...            360.0            1.0         Urban\n",
              "1  LP001022   Male     Yes  ...            360.0            1.0         Urban\n",
              "2  LP001031   Male     Yes  ...            360.0            1.0         Urban\n",
              "3  LP001035   Male     Yes  ...            360.0            NaN         Urban\n",
              "4  LP001051   Male      No  ...            360.0            1.0         Urban\n",
              "\n",
              "[5 rows x 12 columns]"
            ]
          },
          "metadata": {
            "tags": []
          },
          "execution_count": 4
        }
      ]
    },
    {
      "cell_type": "code",
      "metadata": {
        "id": "Hf_-68r7gHKw",
        "colab_type": "code",
        "colab": {
          "base_uri": "https://localhost:8080/",
          "height": 68
        },
        "outputId": "45ad90f1-56a9-4d4b-d1e4-e2997419089a"
      },
      "source": [
        "train['source'] = 'train'\n",
        "test['source'] = 'test'\n",
        "data = pd.concat([train, test], ignore_index=True)\n",
        "print(train.shape)\n",
        "print(test.shape)\n",
        "print(data.shape)"
      ],
      "execution_count": 5,
      "outputs": [
        {
          "output_type": "stream",
          "text": [
            "(614, 14)\n",
            "(367, 13)\n",
            "(981, 14)\n"
          ],
          "name": "stdout"
        }
      ]
    },
    {
      "cell_type": "markdown",
      "metadata": {
        "id": "QmnZslEZOXe0",
        "colab_type": "text"
      },
      "source": [
        "Os datasets foram unidos para não ter que realizar o mesmo processo duas vezes, adicionei a coluna \"sorce\" para poder dividi-lo depois.\n",
        "Agora irei olhar algumas estatísticas das variáveis númericas."
      ]
    },
    {
      "cell_type": "code",
      "metadata": {
        "id": "d4iSAbNqh6Tq",
        "colab_type": "code",
        "colab": {
          "base_uri": "https://localhost:8080/",
          "height": 297
        },
        "outputId": "10139931-9fd4-41a5-a7d6-b93bb32c4988"
      },
      "source": [
        "data.describe()"
      ],
      "execution_count": 6,
      "outputs": [
        {
          "output_type": "execute_result",
          "data": {
            "text/html": [
              "<div>\n",
              "<style scoped>\n",
              "    .dataframe tbody tr th:only-of-type {\n",
              "        vertical-align: middle;\n",
              "    }\n",
              "\n",
              "    .dataframe tbody tr th {\n",
              "        vertical-align: top;\n",
              "    }\n",
              "\n",
              "    .dataframe thead th {\n",
              "        text-align: right;\n",
              "    }\n",
              "</style>\n",
              "<table border=\"1\" class=\"dataframe\">\n",
              "  <thead>\n",
              "    <tr style=\"text-align: right;\">\n",
              "      <th></th>\n",
              "      <th>ApplicantIncome</th>\n",
              "      <th>CoapplicantIncome</th>\n",
              "      <th>LoanAmount</th>\n",
              "      <th>Loan_Amount_Term</th>\n",
              "      <th>Credit_History</th>\n",
              "    </tr>\n",
              "  </thead>\n",
              "  <tbody>\n",
              "    <tr>\n",
              "      <th>count</th>\n",
              "      <td>981.000000</td>\n",
              "      <td>981.000000</td>\n",
              "      <td>954.000000</td>\n",
              "      <td>961.000000</td>\n",
              "      <td>902.000000</td>\n",
              "    </tr>\n",
              "    <tr>\n",
              "      <th>mean</th>\n",
              "      <td>5179.795107</td>\n",
              "      <td>1601.916330</td>\n",
              "      <td>142.511530</td>\n",
              "      <td>342.201873</td>\n",
              "      <td>0.835920</td>\n",
              "    </tr>\n",
              "    <tr>\n",
              "      <th>std</th>\n",
              "      <td>5695.104533</td>\n",
              "      <td>2718.772806</td>\n",
              "      <td>77.421743</td>\n",
              "      <td>65.100602</td>\n",
              "      <td>0.370553</td>\n",
              "    </tr>\n",
              "    <tr>\n",
              "      <th>min</th>\n",
              "      <td>0.000000</td>\n",
              "      <td>0.000000</td>\n",
              "      <td>9.000000</td>\n",
              "      <td>6.000000</td>\n",
              "      <td>0.000000</td>\n",
              "    </tr>\n",
              "    <tr>\n",
              "      <th>25%</th>\n",
              "      <td>2875.000000</td>\n",
              "      <td>0.000000</td>\n",
              "      <td>100.000000</td>\n",
              "      <td>360.000000</td>\n",
              "      <td>1.000000</td>\n",
              "    </tr>\n",
              "    <tr>\n",
              "      <th>50%</th>\n",
              "      <td>3800.000000</td>\n",
              "      <td>1110.000000</td>\n",
              "      <td>126.000000</td>\n",
              "      <td>360.000000</td>\n",
              "      <td>1.000000</td>\n",
              "    </tr>\n",
              "    <tr>\n",
              "      <th>75%</th>\n",
              "      <td>5516.000000</td>\n",
              "      <td>2365.000000</td>\n",
              "      <td>162.000000</td>\n",
              "      <td>360.000000</td>\n",
              "      <td>1.000000</td>\n",
              "    </tr>\n",
              "    <tr>\n",
              "      <th>max</th>\n",
              "      <td>81000.000000</td>\n",
              "      <td>41667.000000</td>\n",
              "      <td>700.000000</td>\n",
              "      <td>480.000000</td>\n",
              "      <td>1.000000</td>\n",
              "    </tr>\n",
              "  </tbody>\n",
              "</table>\n",
              "</div>"
            ],
            "text/plain": [
              "       ApplicantIncome  CoapplicantIncome  ...  Loan_Amount_Term  Credit_History\n",
              "count       981.000000         981.000000  ...        961.000000      902.000000\n",
              "mean       5179.795107        1601.916330  ...        342.201873        0.835920\n",
              "std        5695.104533        2718.772806  ...         65.100602        0.370553\n",
              "min           0.000000           0.000000  ...          6.000000        0.000000\n",
              "25%        2875.000000           0.000000  ...        360.000000        1.000000\n",
              "50%        3800.000000        1110.000000  ...        360.000000        1.000000\n",
              "75%        5516.000000        2365.000000  ...        360.000000        1.000000\n",
              "max       81000.000000       41667.000000  ...        480.000000        1.000000\n",
              "\n",
              "[8 rows x 5 columns]"
            ]
          },
          "metadata": {
            "tags": []
          },
          "execution_count": 6
        }
      ]
    },
    {
      "cell_type": "markdown",
      "metadata": {
        "id": "qH-1eUCcRQHs",
        "colab_type": "text"
      },
      "source": [
        "Pelos valores diferentes de count percebe-se que há valores faltando.\n",
        "Irei ver a quantidade de valores fatantes para cada varável a seguir."
      ]
    },
    {
      "cell_type": "code",
      "metadata": {
        "id": "qiXRIynAhefV",
        "colab_type": "code",
        "colab": {
          "base_uri": "https://localhost:8080/",
          "height": 272
        },
        "outputId": "2661d39f-e976-46e3-eca5-864808ac3134"
      },
      "source": [
        "data.apply(lambda x: sum(x.isnull()))"
      ],
      "execution_count": 7,
      "outputs": [
        {
          "output_type": "execute_result",
          "data": {
            "text/plain": [
              "Loan_ID                0\n",
              "Gender                24\n",
              "Married                3\n",
              "Dependents            25\n",
              "Education              0\n",
              "Self_Employed         55\n",
              "ApplicantIncome        0\n",
              "CoapplicantIncome      0\n",
              "LoanAmount            27\n",
              "Loan_Amount_Term      20\n",
              "Credit_History        79\n",
              "Property_Area          0\n",
              "Loan_Status          367\n",
              "source                 0\n",
              "dtype: int64"
            ]
          },
          "metadata": {
            "tags": []
          },
          "execution_count": 7
        }
      ]
    },
    {
      "cell_type": "markdown",
      "metadata": {
        "id": "yefHFdgpVlzc",
        "colab_type": "text"
      },
      "source": [
        "Há varias variáveis com valores faltantes, e Loan_Status tem 367 devido ao dataset de test não ter essa variável."
      ]
    },
    {
      "cell_type": "code",
      "metadata": {
        "id": "nfT39xaajy-c",
        "colab_type": "code",
        "colab": {
          "base_uri": "https://localhost:8080/",
          "height": 272
        },
        "outputId": "c658ac14-eb93-4222-cc67-a645883d0e30"
      },
      "source": [
        "data.apply(lambda x: len (x.unique ()))"
      ],
      "execution_count": 8,
      "outputs": [
        {
          "output_type": "execute_result",
          "data": {
            "text/plain": [
              "Loan_ID              981\n",
              "Gender                 3\n",
              "Married                3\n",
              "Dependents             5\n",
              "Education              2\n",
              "Self_Employed          3\n",
              "ApplicantIncome      752\n",
              "CoapplicantIncome    437\n",
              "LoanAmount           233\n",
              "Loan_Amount_Term      13\n",
              "Credit_History         3\n",
              "Property_Area          3\n",
              "Loan_Status            3\n",
              "source                 2\n",
              "dtype: int64"
            ]
          },
          "metadata": {
            "tags": []
          },
          "execution_count": 8
        }
      ]
    },
    {
      "cell_type": "code",
      "metadata": {
        "id": "1jg1rYmNVrUm",
        "colab_type": "code",
        "colab": {
          "base_uri": "https://localhost:8080/",
          "height": 272
        },
        "outputId": "a829445f-14e7-48e5-ac85-fb469ba20be0"
      },
      "source": [
        "data.dtypes"
      ],
      "execution_count": 9,
      "outputs": [
        {
          "output_type": "execute_result",
          "data": {
            "text/plain": [
              "Loan_ID               object\n",
              "Gender                object\n",
              "Married               object\n",
              "Dependents            object\n",
              "Education             object\n",
              "Self_Employed         object\n",
              "ApplicantIncome        int64\n",
              "CoapplicantIncome    float64\n",
              "LoanAmount           float64\n",
              "Loan_Amount_Term     float64\n",
              "Credit_History       float64\n",
              "Property_Area         object\n",
              "Loan_Status           object\n",
              "source                object\n",
              "dtype: object"
            ]
          },
          "metadata": {
            "tags": []
          },
          "execution_count": 9
        }
      ]
    },
    {
      "cell_type": "markdown",
      "metadata": {
        "id": "VqnE5Sp-WNsF",
        "colab_type": "text"
      },
      "source": [
        "A seguir irei ver os valores das variaávei categoricas e sua frequência"
      ]
    },
    {
      "cell_type": "code",
      "metadata": {
        "id": "B8hB_i6Jk33o",
        "colab_type": "code",
        "colab": {
          "base_uri": "https://localhost:8080/",
          "height": 1000
        },
        "outputId": "61ec98a6-666d-45d6-9f76-ede7918cd81e"
      },
      "source": [
        "#Filtrar colunas categóricas\n",
        "categorical_columns = [x for x in data.dtypes.index if data.dtypes[x]=='object']\n",
        "#Excluir Loan_ID  e source\n",
        "categorical_columns = [x for x in categorical_columns if x not in ['Loan_ID','source']]\n",
        "#Imprimir a freqência das categorias\n",
        "for col in categorical_columns:\n",
        "    print('\\nFrequência da variável categórica %s'%col)\n",
        "    print(data[col].value_counts())\n",
        "    print('\\nFrequência da variável categórica %s em porcentagem'%col)\n",
        "    print(data[col].value_counts(normalize=True)*100)\n",
        "    print(\"==========================================================================\")"
      ],
      "execution_count": 10,
      "outputs": [
        {
          "output_type": "stream",
          "text": [
            "\n",
            "Frequência da variável categórica Gender\n",
            "Male      775\n",
            "Female    182\n",
            "Name: Gender, dtype: int64\n",
            "\n",
            "Frequência da variável categórica Gender em porcentagem\n",
            "Male      80.982236\n",
            "Female    19.017764\n",
            "Name: Gender, dtype: float64\n",
            "==========================================================================\n",
            "\n",
            "Frequência da variável categórica Married\n",
            "Yes    631\n",
            "No     347\n",
            "Name: Married, dtype: int64\n",
            "\n",
            "Frequência da variável categórica Married em porcentagem\n",
            "Yes    64.519427\n",
            "No     35.480573\n",
            "Name: Married, dtype: float64\n",
            "==========================================================================\n",
            "\n",
            "Frequência da variável categórica Dependents\n",
            "0     545\n",
            "1     160\n",
            "2     160\n",
            "3+     91\n",
            "Name: Dependents, dtype: int64\n",
            "\n",
            "Frequência da variável categórica Dependents em porcentagem\n",
            "0     57.008368\n",
            "1     16.736402\n",
            "2     16.736402\n",
            "3+     9.518828\n",
            "Name: Dependents, dtype: float64\n",
            "==========================================================================\n",
            "\n",
            "Frequência da variável categórica Education\n",
            "Graduate        763\n",
            "Not Graduate    218\n",
            "Name: Education, dtype: int64\n",
            "\n",
            "Frequência da variável categórica Education em porcentagem\n",
            "Graduate        77.777778\n",
            "Not Graduate    22.222222\n",
            "Name: Education, dtype: float64\n",
            "==========================================================================\n",
            "\n",
            "Frequência da variável categórica Self_Employed\n",
            "No     807\n",
            "Yes    119\n",
            "Name: Self_Employed, dtype: int64\n",
            "\n",
            "Frequência da variável categórica Self_Employed em porcentagem\n",
            "No     87.149028\n",
            "Yes    12.850972\n",
            "Name: Self_Employed, dtype: float64\n",
            "==========================================================================\n",
            "\n",
            "Frequência da variável categórica Property_Area\n",
            "Semiurban    349\n",
            "Urban        342\n",
            "Rural        290\n",
            "Name: Property_Area, dtype: int64\n",
            "\n",
            "Frequência da variável categórica Property_Area em porcentagem\n",
            "Semiurban    35.575943\n",
            "Urban        34.862385\n",
            "Rural        29.561672\n",
            "Name: Property_Area, dtype: float64\n",
            "==========================================================================\n",
            "\n",
            "Frequência da variável categórica Loan_Status\n",
            "Y    422\n",
            "N    192\n",
            "Name: Loan_Status, dtype: int64\n",
            "\n",
            "Frequência da variável categórica Loan_Status em porcentagem\n",
            "Y    68.729642\n",
            "N    31.270358\n",
            "Name: Loan_Status, dtype: float64\n",
            "==========================================================================\n"
          ],
          "name": "stdout"
        }
      ]
    },
    {
      "cell_type": "markdown",
      "metadata": {
        "id": "DsVCw9CXW2vK",
        "colab_type": "text"
      },
      "source": [
        "Isso mostrou os valores e a frequencia das categorias de cada variável."
      ]
    },
    {
      "cell_type": "markdown",
      "metadata": {
        "id": "yKfdpCQaVSs5",
        "colab_type": "text"
      },
      "source": [
        "#Limpando Dados\n",
        "\n",
        "A aqui irei tratar os valores faltantes vistos anteriormente."
      ]
    },
    {
      "cell_type": "code",
      "metadata": {
        "id": "NbEOGhK7VOnE",
        "colab_type": "code",
        "colab": {}
      },
      "source": [
        "#Para variável Gender irei imputar valores utilizando o mode\n",
        "data[\"Gender\"].fillna(train[\"Gender\"].mode()[0],inplace=True)"
      ],
      "execution_count": 11,
      "outputs": []
    },
    {
      "cell_type": "code",
      "metadata": {
        "id": "dnpOjkAPqC2o",
        "colab_type": "code",
        "colab": {
          "base_uri": "https://localhost:8080/",
          "height": 272
        },
        "outputId": "67483e00-b794-4245-8c8d-1f919ce5479b"
      },
      "source": [
        "##Para variável Married irei imputar valores utilizando o mode\n",
        "data[\"Married\"].fillna(train[\"Married\"].mode()[0],inplace=True)\n",
        "data.apply(lambda x: sum(x.isnull()))"
      ],
      "execution_count": 12,
      "outputs": [
        {
          "output_type": "execute_result",
          "data": {
            "text/plain": [
              "Loan_ID                0\n",
              "Gender                 0\n",
              "Married                0\n",
              "Dependents            25\n",
              "Education              0\n",
              "Self_Employed         55\n",
              "ApplicantIncome        0\n",
              "CoapplicantIncome      0\n",
              "LoanAmount            27\n",
              "Loan_Amount_Term      20\n",
              "Credit_History        79\n",
              "Property_Area          0\n",
              "Loan_Status          367\n",
              "source                 0\n",
              "dtype: int64"
            ]
          },
          "metadata": {
            "tags": []
          },
          "execution_count": 12
        }
      ]
    },
    {
      "cell_type": "code",
      "metadata": {
        "id": "Rz63aNYuqpWA",
        "colab_type": "code",
        "colab": {
          "base_uri": "https://localhost:8080/",
          "height": 102
        },
        "outputId": "54c60fd0-7dd2-4ca7-9ee1-487efef80c33"
      },
      "source": [
        "from scipy.stats import mode\n",
        "\n",
        "#Determinar o modo para cada categoria de Dependents\n",
        "Dependents_mode = data.pivot_table(values='Dependents', columns='Married', aggfunc=(lambda x: mode(x).mode[0]))\n",
        "print('Modo para cada Dependents:')\n",
        "print(Dependents_mode)\n",
        "\n",
        "#Obter uma variável booleana especificando valores de Dependents ausentes\n",
        "miss_bool = data['Dependents'].isnull()\n",
        "\n",
        "#Impute dados e verifique #missing values ​​antes e depois da imputação para confirmar\n",
        "print('Valores em falta: %d' % sum(miss_bool))\n",
        "data.loc[miss_bool,'Dependents'] = data.loc[miss_bool,'Married'].apply(lambda x: Dependents_mode [x])\n",
        "print('Final em falta: %d' % sum(data['Dependents'].isnull()))"
      ],
      "execution_count": 13,
      "outputs": [
        {
          "output_type": "stream",
          "text": [
            "Modo para cada Dependents:\n",
            "Married    No Yes\n",
            "Dependents  0   0\n",
            "Valores em falta: 25\n",
            "Final em falta: 0\n"
          ],
          "name": "stdout"
        }
      ]
    },
    {
      "cell_type": "markdown",
      "metadata": {
        "id": "W7zlqPkRbH73",
        "colab_type": "text"
      },
      "source": [
        "Para a variável Depends resolvi fazer de outra forma, como há uma relação entre o número de dependents e married resolvi usar o mode dependendo da categoria de married."
      ]
    },
    {
      "cell_type": "code",
      "metadata": {
        "id": "FAuEM5y2sp5P",
        "colab_type": "code",
        "colab": {}
      },
      "source": [
        "##Para variável Self_Employed irei imputar valores utilizando o mode\n",
        "data['Self_Employed'].fillna(mode(data['Self_Employed']).mode[0], inplace=True)"
      ],
      "execution_count": 14,
      "outputs": []
    },
    {
      "cell_type": "markdown",
      "metadata": {
        "id": "utFz5n8bfnH6",
        "colab_type": "text"
      },
      "source": [
        "Irei obter algumas informações sobre minha hipótese sobre a relação entre LoanAmount e Education, para poder imputar valores em LoanAmount com base e Education"
      ]
    },
    {
      "cell_type": "code",
      "metadata": {
        "id": "lat2s3ecdQmY",
        "colab_type": "code",
        "colab": {
          "base_uri": "https://localhost:8080/",
          "height": 301
        },
        "outputId": "6351d346-e92c-4887-93c7-1e2a9833a3c2"
      },
      "source": [
        "import matplotlib.pyplot as plt\n",
        "data.boxplot(column='LoanAmount',by=\"Education\" )\n",
        "plt.suptitle(\" \")\n",
        "plt.show()"
      ],
      "execution_count": 15,
      "outputs": [
        {
          "output_type": "display_data",
          "data": {
            "image/png": "[encoded data removed]",
            "text/plain": [
              "<Figure size 432x288 with 1 Axes>"
            ]
          },
          "metadata": {
            "tags": [],
            "needs_background": "light"
          }
        }
      ]
    },
    {
      "cell_type": "code",
      "metadata": {
        "id": "vHsF3iC-eHG-",
        "colab_type": "code",
        "colab": {
          "base_uri": "https://localhost:8080/",
          "height": 85
        },
        "outputId": "7848d166-33c1-4421-c38c-cd574c6effe8"
      },
      "source": [
        "sis = data.groupby(\"Education\")[\"LoanAmount\"].mean()\n",
        "sis"
      ],
      "execution_count": 16,
      "outputs": [
        {
          "output_type": "execute_result",
          "data": {
            "text/plain": [
              "Education\n",
              "Graduate        149.297043\n",
              "Not Graduate    118.471429\n",
              "Name: LoanAmount, dtype: float64"
            ]
          },
          "metadata": {
            "tags": []
          },
          "execution_count": 16
        }
      ]
    },
    {
      "cell_type": "code",
      "metadata": {
        "id": "dvqDaSZwuTFT",
        "colab_type": "code",
        "colab": {
          "base_uri": "https://localhost:8080/",
          "height": 119
        },
        "outputId": "b43092d8-11fb-4d1f-fbd8-e2a8d8598ca2"
      },
      "source": [
        "\n",
        "\n",
        "#Determinar a média para cada\n",
        "table = data.pivot_table(values='LoanAmount', index='Self_Employed' ,columns='Education', aggfunc=np.median)\n",
        "print(table)\n",
        "\n",
        "#Obter uma variável booleana especificando valores de LoanAmount ausentes\n",
        "miss_bool = data['LoanAmount'].isnull()\n",
        "\n",
        "# Define function to return value of this pivot_table\n",
        "def fage(x):\n",
        " return table.loc[x['Self_Employed'],x['Education']]\n",
        "\n",
        "#Impute dados e verifique #missing values ​​antes e depois da imputação para confirmar\n",
        "print('Valores em falta: %d' % sum(miss_bool))\n",
        "data['LoanAmount'].fillna(data[miss_bool].apply(fage, axis=1), inplace=True)\n",
        "print('Final em falta: %d' % sum(data['LoanAmount'].isnull()))"
      ],
      "execution_count": 17,
      "outputs": [
        {
          "output_type": "stream",
          "text": [
            "Education      Graduate  Not Graduate\n",
            "Self_Employed                        \n",
            "No                130.0         117.0\n",
            "Yes               150.0         130.0\n",
            "Valores em falta: 27\n",
            "Final em falta: 0\n"
          ],
          "name": "stdout"
        }
      ]
    },
    {
      "cell_type": "markdown",
      "metadata": {
        "id": "5qrcUQoagdWA",
        "colab_type": "text"
      },
      "source": [
        "Aqui imputei valores utilizando a mediana dependendo do valor de Education e Self_Employed"
      ]
    },
    {
      "cell_type": "code",
      "metadata": {
        "id": "vjMYfthaJnmX",
        "colab_type": "code",
        "colab": {
          "base_uri": "https://localhost:8080/",
          "height": 643
        },
        "outputId": "aeb47c18-76db-44fd-cbc4-620757ef24c7"
      },
      "source": [
        "import matplotlib.pyplot as plt\n",
        "\n",
        "print('Range of medv = { ' + str(min(data.Loan_Amount_Term)) + ' ' + str(max(data.Loan_Amount_Term)) + '}')\n",
        "\n",
        "ax = plt.figure(figsize=(8, 6)).gca() # define axis\n",
        "data.Loan_Amount_Term.plot.hist(ax = ax,alpha = 0.6)\n",
        "plt.title('Histogram of Loan_Amount_Term')\n",
        "plt.xlabel('Loan_Amount_Term')\n",
        "print(data['Loan_Amount_Term'].value_counts())"
      ],
      "execution_count": 18,
      "outputs": [
        {
          "output_type": "stream",
          "text": [
            "Range of medv = { 6.0 480.0}\n",
            "360.0    823\n",
            "180.0     66\n",
            "480.0     23\n",
            "300.0     20\n",
            "240.0      8\n",
            "84.0       7\n",
            "120.0      4\n",
            "36.0       3\n",
            "60.0       3\n",
            "12.0       2\n",
            "350.0      1\n",
            "6.0        1\n",
            "Name: Loan_Amount_Term, dtype: int64\n"
          ],
          "name": "stdout"
        },
        {
          "output_type": "display_data",
          "data": {
            "image/png": "[encoded data removed]",
            "text/plain": [
              "<Figure size 576x432 with 1 Axes>"
            ]
          },
          "metadata": {
            "tags": [],
            "needs_background": "light"
          }
        }
      ]
    },
    {
      "cell_type": "code",
      "metadata": {
        "id": "GVmxF8KEeJU3",
        "colab_type": "code",
        "colab": {}
      },
      "source": [
        "#Imputar valores em Loan_Amount_Term utilizando mode\n",
        "data[\"Loan_Amount_Term\"].fillna(data[\"Loan_Amount_Term\"].mode()[0],inplace=True)"
      ],
      "execution_count": 19,
      "outputs": []
    },
    {
      "cell_type": "code",
      "metadata": {
        "id": "oZx10xgLe-px",
        "colab_type": "code",
        "colab": {
          "base_uri": "https://localhost:8080/",
          "height": 173
        },
        "outputId": "a2a680ce-3864-434f-cb22-ab88e6348e6b"
      },
      "source": [
        "pd.crosstab(data[\"Credit_History\"],data[\"Loan_Status\"],margins=True)"
      ],
      "execution_count": 20,
      "outputs": [
        {
          "output_type": "execute_result",
          "data": {
            "text/html": [
              "<div>\n",
              "<style scoped>\n",
              "    .dataframe tbody tr th:only-of-type {\n",
              "        vertical-align: middle;\n",
              "    }\n",
              "\n",
              "    .dataframe tbody tr th {\n",
              "        vertical-align: top;\n",
              "    }\n",
              "\n",
              "    .dataframe thead th {\n",
              "        text-align: right;\n",
              "    }\n",
              "</style>\n",
              "<table border=\"1\" class=\"dataframe\">\n",
              "  <thead>\n",
              "    <tr style=\"text-align: right;\">\n",
              "      <th>Loan_Status</th>\n",
              "      <th>N</th>\n",
              "      <th>Y</th>\n",
              "      <th>All</th>\n",
              "    </tr>\n",
              "    <tr>\n",
              "      <th>Credit_History</th>\n",
              "      <th></th>\n",
              "      <th></th>\n",
              "      <th></th>\n",
              "    </tr>\n",
              "  </thead>\n",
              "  <tbody>\n",
              "    <tr>\n",
              "      <th>0.0</th>\n",
              "      <td>82</td>\n",
              "      <td>7</td>\n",
              "      <td>89</td>\n",
              "    </tr>\n",
              "    <tr>\n",
              "      <th>1.0</th>\n",
              "      <td>97</td>\n",
              "      <td>378</td>\n",
              "      <td>475</td>\n",
              "    </tr>\n",
              "    <tr>\n",
              "      <th>All</th>\n",
              "      <td>179</td>\n",
              "      <td>385</td>\n",
              "      <td>564</td>\n",
              "    </tr>\n",
              "  </tbody>\n",
              "</table>\n",
              "</div>"
            ],
            "text/plain": [
              "Loan_Status       N    Y  All\n",
              "Credit_History               \n",
              "0.0              82    7   89\n",
              "1.0              97  378  475\n",
              "All             179  385  564"
            ]
          },
          "metadata": {
            "tags": []
          },
          "execution_count": 20
        }
      ]
    },
    {
      "cell_type": "code",
      "metadata": {
        "id": "klWujcgKiZhu",
        "colab_type": "code",
        "colab": {
          "base_uri": "https://localhost:8080/",
          "height": 51
        },
        "outputId": "ffce29b3-1bef-4733-ab6f-c1ab745c82bd"
      },
      "source": [
        "#Imputar valores em Credit_History utilizando mode\n",
        "print('Valores em falta: %d' % sum(data['Credit_History'].isnull()))\n",
        "data['Credit_History'].fillna(data['Credit_History'].mode()[0], inplace=True)\n",
        "print('Final em falta: %d' % sum(data['Credit_History'].isnull()))"
      ],
      "execution_count": 21,
      "outputs": [
        {
          "output_type": "stream",
          "text": [
            "Valores em falta: 79\n",
            "Final em falta: 0\n"
          ],
          "name": "stdout"
        }
      ]
    },
    {
      "cell_type": "code",
      "metadata": {
        "id": "RSwBMGn4kwlk",
        "colab_type": "code",
        "colab": {
          "base_uri": "https://localhost:8080/",
          "height": 272
        },
        "outputId": "9fafc50c-6529-4655-bb71-3d1c250d4055"
      },
      "source": [
        "data.apply(lambda x: sum(x.isnull()))"
      ],
      "execution_count": 22,
      "outputs": [
        {
          "output_type": "execute_result",
          "data": {
            "text/plain": [
              "Loan_ID                0\n",
              "Gender                 0\n",
              "Married                0\n",
              "Dependents             0\n",
              "Education              0\n",
              "Self_Employed          0\n",
              "ApplicantIncome        0\n",
              "CoapplicantIncome      0\n",
              "LoanAmount             0\n",
              "Loan_Amount_Term       0\n",
              "Credit_History         0\n",
              "Property_Area          0\n",
              "Loan_Status          367\n",
              "source                 0\n",
              "dtype: int64"
            ]
          },
          "metadata": {
            "tags": []
          },
          "execution_count": 22
        }
      ]
    },
    {
      "cell_type": "markdown",
      "metadata": {
        "id": "_JmKDmhzhwqE",
        "colab_type": "text"
      },
      "source": [
        "Todos os valores nulos foram tratados."
      ]
    },
    {
      "cell_type": "markdown",
      "metadata": {
        "id": "oldnDFIruNYE",
        "colab_type": "text"
      },
      "source": [
        "#Feature Engineering"
      ]
    },
    {
      "cell_type": "code",
      "metadata": {
        "id": "p7vcQ-mWlF3e",
        "colab_type": "code",
        "colab": {
          "base_uri": "https://localhost:8080/",
          "height": 241
        },
        "outputId": "977f0910-07ca-4b79-8670-49f94611b134"
      },
      "source": [
        "data.head()"
      ],
      "execution_count": 23,
      "outputs": [
        {
          "output_type": "execute_result",
          "data": {
            "text/html": [
              "<div>\n",
              "<style scoped>\n",
              "    .dataframe tbody tr th:only-of-type {\n",
              "        vertical-align: middle;\n",
              "    }\n",
              "\n",
              "    .dataframe tbody tr th {\n",
              "        vertical-align: top;\n",
              "    }\n",
              "\n",
              "    .dataframe thead th {\n",
              "        text-align: right;\n",
              "    }\n",
              "</style>\n",
              "<table border=\"1\" class=\"dataframe\">\n",
              "  <thead>\n",
              "    <tr style=\"text-align: right;\">\n",
              "      <th></th>\n",
              "      <th>Loan_ID</th>\n",
              "      <th>Gender</th>\n",
              "      <th>Married</th>\n",
              "      <th>Dependents</th>\n",
              "      <th>Education</th>\n",
              "      <th>Self_Employed</th>\n",
              "      <th>ApplicantIncome</th>\n",
              "      <th>CoapplicantIncome</th>\n",
              "      <th>LoanAmount</th>\n",
              "      <th>Loan_Amount_Term</th>\n",
              "      <th>Credit_History</th>\n",
              "      <th>Property_Area</th>\n",
              "      <th>Loan_Status</th>\n",
              "      <th>source</th>\n",
              "    </tr>\n",
              "  </thead>\n",
              "  <tbody>\n",
              "    <tr>\n",
              "      <th>0</th>\n",
              "      <td>LP001002</td>\n",
              "      <td>Male</td>\n",
              "      <td>No</td>\n",
              "      <td>0</td>\n",
              "      <td>Graduate</td>\n",
              "      <td>No</td>\n",
              "      <td>5849</td>\n",
              "      <td>0.0</td>\n",
              "      <td>130.0</td>\n",
              "      <td>360.0</td>\n",
              "      <td>1.0</td>\n",
              "      <td>Urban</td>\n",
              "      <td>Y</td>\n",
              "      <td>train</td>\n",
              "    </tr>\n",
              "    <tr>\n",
              "      <th>1</th>\n",
              "      <td>LP001003</td>\n",
              "      <td>Male</td>\n",
              "      <td>Yes</td>\n",
              "      <td>1</td>\n",
              "      <td>Graduate</td>\n",
              "      <td>No</td>\n",
              "      <td>4583</td>\n",
              "      <td>1508.0</td>\n",
              "      <td>128.0</td>\n",
              "      <td>360.0</td>\n",
              "      <td>1.0</td>\n",
              "      <td>Rural</td>\n",
              "      <td>N</td>\n",
              "      <td>train</td>\n",
              "    </tr>\n",
              "    <tr>\n",
              "      <th>2</th>\n",
              "      <td>LP001005</td>\n",
              "      <td>Male</td>\n",
              "      <td>Yes</td>\n",
              "      <td>0</td>\n",
              "      <td>Graduate</td>\n",
              "      <td>Yes</td>\n",
              "      <td>3000</td>\n",
              "      <td>0.0</td>\n",
              "      <td>66.0</td>\n",
              "      <td>360.0</td>\n",
              "      <td>1.0</td>\n",
              "      <td>Urban</td>\n",
              "      <td>Y</td>\n",
              "      <td>train</td>\n",
              "    </tr>\n",
              "    <tr>\n",
              "      <th>3</th>\n",
              "      <td>LP001006</td>\n",
              "      <td>Male</td>\n",
              "      <td>Yes</td>\n",
              "      <td>0</td>\n",
              "      <td>Not Graduate</td>\n",
              "      <td>No</td>\n",
              "      <td>2583</td>\n",
              "      <td>2358.0</td>\n",
              "      <td>120.0</td>\n",
              "      <td>360.0</td>\n",
              "      <td>1.0</td>\n",
              "      <td>Urban</td>\n",
              "      <td>Y</td>\n",
              "      <td>train</td>\n",
              "    </tr>\n",
              "    <tr>\n",
              "      <th>4</th>\n",
              "      <td>LP001008</td>\n",
              "      <td>Male</td>\n",
              "      <td>No</td>\n",
              "      <td>0</td>\n",
              "      <td>Graduate</td>\n",
              "      <td>No</td>\n",
              "      <td>6000</td>\n",
              "      <td>0.0</td>\n",
              "      <td>141.0</td>\n",
              "      <td>360.0</td>\n",
              "      <td>1.0</td>\n",
              "      <td>Urban</td>\n",
              "      <td>Y</td>\n",
              "      <td>train</td>\n",
              "    </tr>\n",
              "  </tbody>\n",
              "</table>\n",
              "</div>"
            ],
            "text/plain": [
              "    Loan_ID Gender Married  ... Property_Area Loan_Status source\n",
              "0  LP001002   Male      No  ...         Urban           Y  train\n",
              "1  LP001003   Male     Yes  ...         Rural           N  train\n",
              "2  LP001005   Male     Yes  ...         Urban           Y  train\n",
              "3  LP001006   Male     Yes  ...         Urban           Y  train\n",
              "4  LP001008   Male      No  ...         Urban           Y  train\n",
              "\n",
              "[5 rows x 14 columns]"
            ]
          },
          "metadata": {
            "tags": []
          },
          "execution_count": 23
        }
      ]
    },
    {
      "cell_type": "code",
      "metadata": {
        "id": "w5Hlw8OMmkCD",
        "colab_type": "code",
        "colab": {
          "base_uri": "https://localhost:8080/",
          "height": 1000
        },
        "outputId": "6e063539-e85b-4cef-a6cf-75e6b52e3d71"
      },
      "source": [
        "cols = ['ApplicantIncome','CoapplicantIncome','LoanAmount','Loan_Amount_Term']\n",
        "for col in cols:\n",
        "  data.hist(column=col,by=\"Loan_Status\",bins=30)"
      ],
      "execution_count": 24,
      "outputs": [
        {
          "output_type": "display_data",
          "data": {
            "image/png": "[encoded data removed]",
            "text/plain": [
              "<Figure size 432x288 with 2 Axes>"
            ]
          },
          "metadata": {
            "tags": [],
            "needs_background": "light"
          }
        },
        {
          "output_type": "display_data",
          "data": {
            "image/png": "[encoded data removed]",
            "text/plain": [
              "<Figure size 432x288 with 2 Axes>"
            ]
          },
          "metadata": {
            "tags": [],
            "needs_background": "light"
          }
        },
        {
          "output_type": "display_data",
          "data": {
            "image/png": "[encoded data removed]",
            "text/plain": [
              "<Figure size 432x288 with 2 Axes>"
            ]
          },
          "metadata": {
            "tags": [],
            "needs_background": "light"
          }
        },
        {
          "output_type": "display_data",
          "data": {
            "image/png": "[encoded data removed]",
            "text/plain": [
              "<Figure size 432x288 with 2 Axes>"
            ]
          },
          "metadata": {
            "tags": [],
            "needs_background": "light"
          }
        }
      ]
    },
    {
      "cell_type": "code",
      "metadata": {
        "id": "mTdLRhrolgM8",
        "colab_type": "code",
        "colab": {
          "base_uri": "https://localhost:8080/",
          "height": 1000
        },
        "outputId": "ee59330f-e864-4e1e-f041-63fdb1333a32"
      },
      "source": [
        "# Create Boxplots\n",
        "\n",
        "def create_boxplots(df):\n",
        "    import numpy as np\n",
        "    import matplotlib.pyplot as plt\n",
        "    \n",
        "    cols = df.columns.tolist()[:-4]\n",
        "    for col in cols:\n",
        "        if(df[col].dtype in [np.int64, np.int32, np.float64] \n",
        "           and df[col].name != \"Loan_Status\"):                  \n",
        "            fig = plt.figure(figsize = (6,6))\n",
        "            fig.clf()\n",
        "            ax = fig.gca() \n",
        "            df.boxplot(column = [col], ax = ax, by = ['Loan_Status'])          \n",
        "    return('Done') \n",
        "\n",
        "create_boxplots(data)"
      ],
      "execution_count": 25,
      "outputs": [
        {
          "output_type": "execute_result",
          "data": {
            "application/vnd.google.colaboratory.intrinsic+json": {
              "type": "string"
            },
            "text/plain": [
              "'Done'"
            ]
          },
          "metadata": {
            "tags": []
          },
          "execution_count": 25
        },
        {
          "output_type": "display_data",
          "data": {
            "image/png": "[encoded data removed]",
            "text/plain": [
              "<Figure size 432x432 with 1 Axes>"
            ]
          },
          "metadata": {
            "tags": [],
            "needs_background": "light"
          }
        },
        {
          "output_type": "display_data",
          "data": {
            "image/png": "[encoded data removed]",
            "text/plain": [
              "<Figure size 432x432 with 1 Axes>"
            ]
          },
          "metadata": {
            "tags": [],
            "needs_background": "light"
          }
        },
        {
          "output_type": "display_data",
          "data": {
            "image/png": "[encoded data removed]",
            "text/plain": [
              "<Figure size 432x432 with 1 Axes>"
            ]
          },
          "metadata": {
            "tags": [],
            "needs_background": "light"
          }
        },
        {
          "output_type": "display_data",
          "data": {
            "image/png": "[encoded data removed]",
            "text/plain": [
              "<Figure size 432x432 with 1 Axes>"
            ]
          },
          "metadata": {
            "tags": [],
            "needs_background": "light"
          }
        }
      ]
    },
    {
      "cell_type": "markdown",
      "metadata": {
        "id": "abDb5_4LiUM5",
        "colab_type": "text"
      },
      "source": [
        "Não há uma grande diferença entre ser aprovado ou não com base nas variáveis numéricas, é provavel que o valor que mais afete é o Credit_History."
      ]
    },
    {
      "cell_type": "markdown",
      "metadata": {
        "id": "zMm3pj-Yivex",
        "colab_type": "text"
      },
      "source": [
        "Irei criar duas novas variáveis, Total incomo e Loan/month."
      ]
    },
    {
      "cell_type": "code",
      "metadata": {
        "id": "QigMdqnouCQc",
        "colab_type": "code",
        "colab": {}
      },
      "source": [
        "data['TotalIncome'] = data['CoapplicantIncome'] + data['ApplicantIncome']"
      ],
      "execution_count": 26,
      "outputs": []
    },
    {
      "cell_type": "code",
      "metadata": {
        "id": "I-30CySypIEd",
        "colab_type": "code",
        "colab": {}
      },
      "source": [
        "data['Loan/month'] = data['LoanAmount']/data['Loan_Amount_Term']"
      ],
      "execution_count": 27,
      "outputs": []
    },
    {
      "cell_type": "code",
      "metadata": {
        "id": "L4LNY_0OvgvY",
        "colab_type": "code",
        "colab": {
          "base_uri": "https://localhost:8080/",
          "height": 241
        },
        "outputId": "18f4f6dd-4487-4d0d-979d-737506b6e675"
      },
      "source": [
        "data.head()"
      ],
      "execution_count": 28,
      "outputs": [
        {
          "output_type": "execute_result",
          "data": {
            "text/html": [
              "<div>\n",
              "<style scoped>\n",
              "    .dataframe tbody tr th:only-of-type {\n",
              "        vertical-align: middle;\n",
              "    }\n",
              "\n",
              "    .dataframe tbody tr th {\n",
              "        vertical-align: top;\n",
              "    }\n",
              "\n",
              "    .dataframe thead th {\n",
              "        text-align: right;\n",
              "    }\n",
              "</style>\n",
              "<table border=\"1\" class=\"dataframe\">\n",
              "  <thead>\n",
              "    <tr style=\"text-align: right;\">\n",
              "      <th></th>\n",
              "      <th>Loan_ID</th>\n",
              "      <th>Gender</th>\n",
              "      <th>Married</th>\n",
              "      <th>Dependents</th>\n",
              "      <th>Education</th>\n",
              "      <th>Self_Employed</th>\n",
              "      <th>ApplicantIncome</th>\n",
              "      <th>CoapplicantIncome</th>\n",
              "      <th>LoanAmount</th>\n",
              "      <th>Loan_Amount_Term</th>\n",
              "      <th>Credit_History</th>\n",
              "      <th>Property_Area</th>\n",
              "      <th>Loan_Status</th>\n",
              "      <th>source</th>\n",
              "      <th>TotalIncome</th>\n",
              "      <th>Loan/month</th>\n",
              "    </tr>\n",
              "  </thead>\n",
              "  <tbody>\n",
              "    <tr>\n",
              "      <th>0</th>\n",
              "      <td>LP001002</td>\n",
              "      <td>Male</td>\n",
              "      <td>No</td>\n",
              "      <td>0</td>\n",
              "      <td>Graduate</td>\n",
              "      <td>No</td>\n",
              "      <td>5849</td>\n",
              "      <td>0.0</td>\n",
              "      <td>130.0</td>\n",
              "      <td>360.0</td>\n",
              "      <td>1.0</td>\n",
              "      <td>Urban</td>\n",
              "      <td>Y</td>\n",
              "      <td>train</td>\n",
              "      <td>5849.0</td>\n",
              "      <td>0.361111</td>\n",
              "    </tr>\n",
              "    <tr>\n",
              "      <th>1</th>\n",
              "      <td>LP001003</td>\n",
              "      <td>Male</td>\n",
              "      <td>Yes</td>\n",
              "      <td>1</td>\n",
              "      <td>Graduate</td>\n",
              "      <td>No</td>\n",
              "      <td>4583</td>\n",
              "      <td>1508.0</td>\n",
              "      <td>128.0</td>\n",
              "      <td>360.0</td>\n",
              "      <td>1.0</td>\n",
              "      <td>Rural</td>\n",
              "      <td>N</td>\n",
              "      <td>train</td>\n",
              "      <td>6091.0</td>\n",
              "      <td>0.355556</td>\n",
              "    </tr>\n",
              "    <tr>\n",
              "      <th>2</th>\n",
              "      <td>LP001005</td>\n",
              "      <td>Male</td>\n",
              "      <td>Yes</td>\n",
              "      <td>0</td>\n",
              "      <td>Graduate</td>\n",
              "      <td>Yes</td>\n",
              "      <td>3000</td>\n",
              "      <td>0.0</td>\n",
              "      <td>66.0</td>\n",
              "      <td>360.0</td>\n",
              "      <td>1.0</td>\n",
              "      <td>Urban</td>\n",
              "      <td>Y</td>\n",
              "      <td>train</td>\n",
              "      <td>3000.0</td>\n",
              "      <td>0.183333</td>\n",
              "    </tr>\n",
              "    <tr>\n",
              "      <th>3</th>\n",
              "      <td>LP001006</td>\n",
              "      <td>Male</td>\n",
              "      <td>Yes</td>\n",
              "      <td>0</td>\n",
              "      <td>Not Graduate</td>\n",
              "      <td>No</td>\n",
              "      <td>2583</td>\n",
              "      <td>2358.0</td>\n",
              "      <td>120.0</td>\n",
              "      <td>360.0</td>\n",
              "      <td>1.0</td>\n",
              "      <td>Urban</td>\n",
              "      <td>Y</td>\n",
              "      <td>train</td>\n",
              "      <td>4941.0</td>\n",
              "      <td>0.333333</td>\n",
              "    </tr>\n",
              "    <tr>\n",
              "      <th>4</th>\n",
              "      <td>LP001008</td>\n",
              "      <td>Male</td>\n",
              "      <td>No</td>\n",
              "      <td>0</td>\n",
              "      <td>Graduate</td>\n",
              "      <td>No</td>\n",
              "      <td>6000</td>\n",
              "      <td>0.0</td>\n",
              "      <td>141.0</td>\n",
              "      <td>360.0</td>\n",
              "      <td>1.0</td>\n",
              "      <td>Urban</td>\n",
              "      <td>Y</td>\n",
              "      <td>train</td>\n",
              "      <td>6000.0</td>\n",
              "      <td>0.391667</td>\n",
              "    </tr>\n",
              "  </tbody>\n",
              "</table>\n",
              "</div>"
            ],
            "text/plain": [
              "    Loan_ID Gender Married  ... source TotalIncome Loan/month\n",
              "0  LP001002   Male      No  ...  train      5849.0   0.361111\n",
              "1  LP001003   Male     Yes  ...  train      6091.0   0.355556\n",
              "2  LP001005   Male     Yes  ...  train      3000.0   0.183333\n",
              "3  LP001006   Male     Yes  ...  train      4941.0   0.333333\n",
              "4  LP001008   Male      No  ...  train      6000.0   0.391667\n",
              "\n",
              "[5 rows x 16 columns]"
            ]
          },
          "metadata": {
            "tags": []
          },
          "execution_count": 28
        }
      ]
    },
    {
      "cell_type": "code",
      "metadata": {
        "id": "LI48ryMbqJtj",
        "colab_type": "code",
        "colab": {
          "base_uri": "https://localhost:8080/",
          "height": 296
        },
        "outputId": "7190faca-4c3c-4db2-8d22-cbfb6957c4cc"
      },
      "source": [
        "sns.distplot(data[\"TotalIncome\"])"
      ],
      "execution_count": 29,
      "outputs": [
        {
          "output_type": "execute_result",
          "data": {
            "text/plain": [
              "<matplotlib.axes._subplots.AxesSubplot at 0x7f35d22b2a90>"
            ]
          },
          "metadata": {
            "tags": []
          },
          "execution_count": 29
        },
        {
          "output_type": "display_data",
          "data": {
            "image/png": "[encoded data removed]",
            "text/plain": [
              "<Figure size 432x288 with 1 Axes>"
            ]
          },
          "metadata": {
            "tags": [],
            "needs_background": "light"
          }
        }
      ]
    },
    {
      "cell_type": "code",
      "metadata": {
        "id": "E28JxANCqkyT",
        "colab_type": "code",
        "colab": {
          "base_uri": "https://localhost:8080/",
          "height": 297
        },
        "outputId": "86576633-3cd0-47ee-b60e-8d6a0d3665ad"
      },
      "source": [
        "data[\"LoanAmount_log\"]=np.log(data[\"LoanAmount\"])\n",
        "sns.distplot(data[\"LoanAmount_log\"])"
      ],
      "execution_count": 30,
      "outputs": [
        {
          "output_type": "execute_result",
          "data": {
            "text/plain": [
              "<matplotlib.axes._subplots.AxesSubplot at 0x7f35d1afec50>"
            ]
          },
          "metadata": {
            "tags": []
          },
          "execution_count": 30
        },
        {
          "output_type": "display_data",
          "data": {
            "image/png": "[encoded data removed]",
            "text/plain": [
              "<Figure size 432x288 with 1 Axes>"
            ]
          },
          "metadata": {
            "tags": [],
            "needs_background": "light"
          }
        }
      ]
    },
    {
      "cell_type": "code",
      "metadata": {
        "id": "mEDXSUtar6MT",
        "colab_type": "code",
        "colab": {}
      },
      "source": [
        "data[\"TotalIncome_log\"]=np.log(data[\"TotalIncome\"])"
      ],
      "execution_count": 31,
      "outputs": []
    },
    {
      "cell_type": "markdown",
      "metadata": {
        "id": "bqe3ZyBSv51K",
        "colab_type": "text"
      },
      "source": [
        "Remover a skewness com a transformação em log."
      ]
    },
    {
      "cell_type": "markdown",
      "metadata": {
        "id": "zA1EJaYoE8cT",
        "colab_type": "text"
      },
      "source": [
        "#Modelo"
      ]
    },
    {
      "cell_type": "code",
      "metadata": {
        "id": "IYa7SnjErZeH",
        "colab_type": "code",
        "colab": {}
      },
      "source": [
        "data=data.drop([\"ApplicantIncome\",\"CoapplicantIncome\",\"LoanAmount\",\"Loan_Amount_Term\"],axis=1)"
      ],
      "execution_count": 32,
      "outputs": []
    },
    {
      "cell_type": "markdown",
      "metadata": {
        "id": "3ajly2_MxX6O",
        "colab_type": "text"
      },
      "source": [
        "Removi colunas que não irei precisar."
      ]
    },
    {
      "cell_type": "code",
      "metadata": {
        "id": "1cFNpaN7rdgU",
        "colab_type": "code",
        "colab": {
          "base_uri": "https://localhost:8080/",
          "height": 241
        },
        "outputId": "ca82845a-1b3a-4cfd-89bc-fdbf0c5b81d0"
      },
      "source": [
        "data.head()"
      ],
      "execution_count": 33,
      "outputs": [
        {
          "output_type": "execute_result",
          "data": {
            "text/html": [
              "<div>\n",
              "<style scoped>\n",
              "    .dataframe tbody tr th:only-of-type {\n",
              "        vertical-align: middle;\n",
              "    }\n",
              "\n",
              "    .dataframe tbody tr th {\n",
              "        vertical-align: top;\n",
              "    }\n",
              "\n",
              "    .dataframe thead th {\n",
              "        text-align: right;\n",
              "    }\n",
              "</style>\n",
              "<table border=\"1\" class=\"dataframe\">\n",
              "  <thead>\n",
              "    <tr style=\"text-align: right;\">\n",
              "      <th></th>\n",
              "      <th>Loan_ID</th>\n",
              "      <th>Gender</th>\n",
              "      <th>Married</th>\n",
              "      <th>Dependents</th>\n",
              "      <th>Education</th>\n",
              "      <th>Self_Employed</th>\n",
              "      <th>Credit_History</th>\n",
              "      <th>Property_Area</th>\n",
              "      <th>Loan_Status</th>\n",
              "      <th>source</th>\n",
              "      <th>TotalIncome</th>\n",
              "      <th>Loan/month</th>\n",
              "      <th>LoanAmount_log</th>\n",
              "      <th>TotalIncome_log</th>\n",
              "    </tr>\n",
              "  </thead>\n",
              "  <tbody>\n",
              "    <tr>\n",
              "      <th>0</th>\n",
              "      <td>LP001002</td>\n",
              "      <td>Male</td>\n",
              "      <td>No</td>\n",
              "      <td>0</td>\n",
              "      <td>Graduate</td>\n",
              "      <td>No</td>\n",
              "      <td>1.0</td>\n",
              "      <td>Urban</td>\n",
              "      <td>Y</td>\n",
              "      <td>train</td>\n",
              "      <td>5849.0</td>\n",
              "      <td>0.361111</td>\n",
              "      <td>4.867534</td>\n",
              "      <td>8.674026</td>\n",
              "    </tr>\n",
              "    <tr>\n",
              "      <th>1</th>\n",
              "      <td>LP001003</td>\n",
              "      <td>Male</td>\n",
              "      <td>Yes</td>\n",
              "      <td>1</td>\n",
              "      <td>Graduate</td>\n",
              "      <td>No</td>\n",
              "      <td>1.0</td>\n",
              "      <td>Rural</td>\n",
              "      <td>N</td>\n",
              "      <td>train</td>\n",
              "      <td>6091.0</td>\n",
              "      <td>0.355556</td>\n",
              "      <td>4.852030</td>\n",
              "      <td>8.714568</td>\n",
              "    </tr>\n",
              "    <tr>\n",
              "      <th>2</th>\n",
              "      <td>LP001005</td>\n",
              "      <td>Male</td>\n",
              "      <td>Yes</td>\n",
              "      <td>0</td>\n",
              "      <td>Graduate</td>\n",
              "      <td>Yes</td>\n",
              "      <td>1.0</td>\n",
              "      <td>Urban</td>\n",
              "      <td>Y</td>\n",
              "      <td>train</td>\n",
              "      <td>3000.0</td>\n",
              "      <td>0.183333</td>\n",
              "      <td>4.189655</td>\n",
              "      <td>8.006368</td>\n",
              "    </tr>\n",
              "    <tr>\n",
              "      <th>3</th>\n",
              "      <td>LP001006</td>\n",
              "      <td>Male</td>\n",
              "      <td>Yes</td>\n",
              "      <td>0</td>\n",
              "      <td>Not Graduate</td>\n",
              "      <td>No</td>\n",
              "      <td>1.0</td>\n",
              "      <td>Urban</td>\n",
              "      <td>Y</td>\n",
              "      <td>train</td>\n",
              "      <td>4941.0</td>\n",
              "      <td>0.333333</td>\n",
              "      <td>4.787492</td>\n",
              "      <td>8.505323</td>\n",
              "    </tr>\n",
              "    <tr>\n",
              "      <th>4</th>\n",
              "      <td>LP001008</td>\n",
              "      <td>Male</td>\n",
              "      <td>No</td>\n",
              "      <td>0</td>\n",
              "      <td>Graduate</td>\n",
              "      <td>No</td>\n",
              "      <td>1.0</td>\n",
              "      <td>Urban</td>\n",
              "      <td>Y</td>\n",
              "      <td>train</td>\n",
              "      <td>6000.0</td>\n",
              "      <td>0.391667</td>\n",
              "      <td>4.948760</td>\n",
              "      <td>8.699515</td>\n",
              "    </tr>\n",
              "  </tbody>\n",
              "</table>\n",
              "</div>"
            ],
            "text/plain": [
              "    Loan_ID Gender Married  ... Loan/month LoanAmount_log TotalIncome_log\n",
              "0  LP001002   Male      No  ...   0.361111       4.867534        8.674026\n",
              "1  LP001003   Male     Yes  ...   0.355556       4.852030        8.714568\n",
              "2  LP001005   Male     Yes  ...   0.183333       4.189655        8.006368\n",
              "3  LP001006   Male     Yes  ...   0.333333       4.787492        8.505323\n",
              "4  LP001008   Male      No  ...   0.391667       4.948760        8.699515\n",
              "\n",
              "[5 rows x 14 columns]"
            ]
          },
          "metadata": {
            "tags": []
          },
          "execution_count": 33
        }
      ]
    },
    {
      "cell_type": "markdown",
      "metadata": {
        "id": "c9bRg7Yixjq3",
        "colab_type": "text"
      },
      "source": [
        "Irei dividir em o dataset ao que era antes."
      ]
    },
    {
      "cell_type": "code",
      "metadata": {
        "id": "nd_pv5dJE79W",
        "colab_type": "code",
        "colab": {
          "base_uri": "https://localhost:8080/",
          "height": 102
        },
        "outputId": "8fdf3c94-4d49-41dc-f07e-97fec8fba969"
      },
      "source": [
        "#Dividir o teste e o treinamento\n",
        "train = data.loc[data['source'] == \"train\"]\n",
        "test = data.loc[data['source'] == \"test\"]\n",
        "\n",
        "#Dropar colunas desnecessárias\n",
        "test.drop(['Loan_Status', 'source'], axis=1, inplace=True)\n",
        "train.drop(['source'], axis=1, inplace=True)\n",
        "\n",
        "#Exportando arquivos em versões modificadas\n",
        "train.to_csv(\"train_modified.csv\",index=False)\n",
        "test.to_csv(\"test_modified.csv\", index=False)"
      ],
      "execution_count": 34,
      "outputs": [
        {
          "output_type": "stream",
          "text": [
            "/usr/local/lib/python3.6/dist-packages/pandas/core/frame.py:3997: SettingWithCopyWarning: \n",
            "A value is trying to be set on a copy of a slice from a DataFrame\n",
            "\n",
            "See the caveats in the documentation: https://pandas.pydata.org/pandas-docs/stable/user_guide/indexing.html#returning-a-view-versus-a-copy\n",
            "  errors=errors,\n"
          ],
          "name": "stderr"
        }
      ]
    },
    {
      "cell_type": "code",
      "metadata": {
        "id": "1iO3SIp1LA8h",
        "colab_type": "code",
        "colab": {}
      },
      "source": [
        "#One Hot Coding:\n",
        "train = pd.get_dummies(train, columns=['Gender','Married','Dependents','Education','Self_Employed','Property_Area'])\n",
        "test = pd.get_dummies(test, columns=['Gender','Married','Dependents','Education','Self_Employed','Property_Area'])"
      ],
      "execution_count": 35,
      "outputs": []
    },
    {
      "cell_type": "markdown",
      "metadata": {
        "id": "ogmQawUMyjbc",
        "colab_type": "text"
      },
      "source": [
        "Formatação dos dados usando o get_dummies"
      ]
    },
    {
      "cell_type": "code",
      "metadata": {
        "id": "fiAtaCwMwe7z",
        "colab_type": "code",
        "colab": {
          "base_uri": "https://localhost:8080/",
          "height": 408
        },
        "outputId": "52a7a754-f8ea-4eec-8aa2-49b4980ed980"
      },
      "source": [
        "from sklearn.preprocessing import LabelEncoder\n",
        "\n",
        "var_mod = ['Loan_Status']\n",
        "le = LabelEncoder()\n",
        "for i in var_mod:\n",
        "    train[i] = le.fit_transform(train[i])\n",
        "train.dtypes "
      ],
      "execution_count": 36,
      "outputs": [
        {
          "output_type": "execute_result",
          "data": {
            "text/plain": [
              "Loan_ID                     object\n",
              "Credit_History             float64\n",
              "Loan_Status                  int64\n",
              "TotalIncome                float64\n",
              "Loan/month                 float64\n",
              "LoanAmount_log             float64\n",
              "TotalIncome_log            float64\n",
              "Gender_Female                uint8\n",
              "Gender_Male                  uint8\n",
              "Married_No                   uint8\n",
              "Married_Yes                  uint8\n",
              "Dependents_0                 uint8\n",
              "Dependents_1                 uint8\n",
              "Dependents_2                 uint8\n",
              "Dependents_3+                uint8\n",
              "Education_Graduate           uint8\n",
              "Education_Not Graduate       uint8\n",
              "Self_Employed_No             uint8\n",
              "Self_Employed_Yes            uint8\n",
              "Property_Area_Rural          uint8\n",
              "Property_Area_Semiurban      uint8\n",
              "Property_Area_Urban          uint8\n",
              "dtype: object"
            ]
          },
          "metadata": {
            "tags": []
          },
          "execution_count": 36
        }
      ]
    },
    {
      "cell_type": "markdown",
      "metadata": {
        "id": "rOreclv3wg9R",
        "colab_type": "text"
      },
      "source": [
        "Codifiquei Loan_Status usando LabelEncoder."
      ]
    },
    {
      "cell_type": "code",
      "metadata": {
        "id": "NUjWDB1cJlgT",
        "colab_type": "code",
        "colab": {
          "base_uri": "https://localhost:8080/",
          "height": 241
        },
        "outputId": "c4eb897e-e4ea-4006-aa27-c28c59523cee"
      },
      "source": [
        "train.head()"
      ],
      "execution_count": 37,
      "outputs": [
        {
          "output_type": "execute_result",
          "data": {
            "text/html": [
              "<div>\n",
              "<style scoped>\n",
              "    .dataframe tbody tr th:only-of-type {\n",
              "        vertical-align: middle;\n",
              "    }\n",
              "\n",
              "    .dataframe tbody tr th {\n",
              "        vertical-align: top;\n",
              "    }\n",
              "\n",
              "    .dataframe thead th {\n",
              "        text-align: right;\n",
              "    }\n",
              "</style>\n",
              "<table border=\"1\" class=\"dataframe\">\n",
              "  <thead>\n",
              "    <tr style=\"text-align: right;\">\n",
              "      <th></th>\n",
              "      <th>Loan_ID</th>\n",
              "      <th>Credit_History</th>\n",
              "      <th>Loan_Status</th>\n",
              "      <th>TotalIncome</th>\n",
              "      <th>Loan/month</th>\n",
              "      <th>LoanAmount_log</th>\n",
              "      <th>TotalIncome_log</th>\n",
              "      <th>Gender_Female</th>\n",
              "      <th>Gender_Male</th>\n",
              "      <th>Married_No</th>\n",
              "      <th>Married_Yes</th>\n",
              "      <th>Dependents_0</th>\n",
              "      <th>Dependents_1</th>\n",
              "      <th>Dependents_2</th>\n",
              "      <th>Dependents_3+</th>\n",
              "      <th>Education_Graduate</th>\n",
              "      <th>Education_Not Graduate</th>\n",
              "      <th>Self_Employed_No</th>\n",
              "      <th>Self_Employed_Yes</th>\n",
              "      <th>Property_Area_Rural</th>\n",
              "      <th>Property_Area_Semiurban</th>\n",
              "      <th>Property_Area_Urban</th>\n",
              "    </tr>\n",
              "  </thead>\n",
              "  <tbody>\n",
              "    <tr>\n",
              "      <th>0</th>\n",
              "      <td>LP001002</td>\n",
              "      <td>1.0</td>\n",
              "      <td>1</td>\n",
              "      <td>5849.0</td>\n",
              "      <td>0.361111</td>\n",
              "      <td>4.867534</td>\n",
              "      <td>8.674026</td>\n",
              "      <td>0</td>\n",
              "      <td>1</td>\n",
              "      <td>1</td>\n",
              "      <td>0</td>\n",
              "      <td>1</td>\n",
              "      <td>0</td>\n",
              "      <td>0</td>\n",
              "      <td>0</td>\n",
              "      <td>1</td>\n",
              "      <td>0</td>\n",
              "      <td>1</td>\n",
              "      <td>0</td>\n",
              "      <td>0</td>\n",
              "      <td>0</td>\n",
              "      <td>1</td>\n",
              "    </tr>\n",
              "    <tr>\n",
              "      <th>1</th>\n",
              "      <td>LP001003</td>\n",
              "      <td>1.0</td>\n",
              "      <td>0</td>\n",
              "      <td>6091.0</td>\n",
              "      <td>0.355556</td>\n",
              "      <td>4.852030</td>\n",
              "      <td>8.714568</td>\n",
              "      <td>0</td>\n",
              "      <td>1</td>\n",
              "      <td>0</td>\n",
              "      <td>1</td>\n",
              "      <td>0</td>\n",
              "      <td>1</td>\n",
              "      <td>0</td>\n",
              "      <td>0</td>\n",
              "      <td>1</td>\n",
              "      <td>0</td>\n",
              "      <td>1</td>\n",
              "      <td>0</td>\n",
              "      <td>1</td>\n",
              "      <td>0</td>\n",
              "      <td>0</td>\n",
              "    </tr>\n",
              "    <tr>\n",
              "      <th>2</th>\n",
              "      <td>LP001005</td>\n",
              "      <td>1.0</td>\n",
              "      <td>1</td>\n",
              "      <td>3000.0</td>\n",
              "      <td>0.183333</td>\n",
              "      <td>4.189655</td>\n",
              "      <td>8.006368</td>\n",
              "      <td>0</td>\n",
              "      <td>1</td>\n",
              "      <td>0</td>\n",
              "      <td>1</td>\n",
              "      <td>1</td>\n",
              "      <td>0</td>\n",
              "      <td>0</td>\n",
              "      <td>0</td>\n",
              "      <td>1</td>\n",
              "      <td>0</td>\n",
              "      <td>0</td>\n",
              "      <td>1</td>\n",
              "      <td>0</td>\n",
              "      <td>0</td>\n",
              "      <td>1</td>\n",
              "    </tr>\n",
              "    <tr>\n",
              "      <th>3</th>\n",
              "      <td>LP001006</td>\n",
              "      <td>1.0</td>\n",
              "      <td>1</td>\n",
              "      <td>4941.0</td>\n",
              "      <td>0.333333</td>\n",
              "      <td>4.787492</td>\n",
              "      <td>8.505323</td>\n",
              "      <td>0</td>\n",
              "      <td>1</td>\n",
              "      <td>0</td>\n",
              "      <td>1</td>\n",
              "      <td>1</td>\n",
              "      <td>0</td>\n",
              "      <td>0</td>\n",
              "      <td>0</td>\n",
              "      <td>0</td>\n",
              "      <td>1</td>\n",
              "      <td>1</td>\n",
              "      <td>0</td>\n",
              "      <td>0</td>\n",
              "      <td>0</td>\n",
              "      <td>1</td>\n",
              "    </tr>\n",
              "    <tr>\n",
              "      <th>4</th>\n",
              "      <td>LP001008</td>\n",
              "      <td>1.0</td>\n",
              "      <td>1</td>\n",
              "      <td>6000.0</td>\n",
              "      <td>0.391667</td>\n",
              "      <td>4.948760</td>\n",
              "      <td>8.699515</td>\n",
              "      <td>0</td>\n",
              "      <td>1</td>\n",
              "      <td>1</td>\n",
              "      <td>0</td>\n",
              "      <td>1</td>\n",
              "      <td>0</td>\n",
              "      <td>0</td>\n",
              "      <td>0</td>\n",
              "      <td>1</td>\n",
              "      <td>0</td>\n",
              "      <td>1</td>\n",
              "      <td>0</td>\n",
              "      <td>0</td>\n",
              "      <td>0</td>\n",
              "      <td>1</td>\n",
              "    </tr>\n",
              "  </tbody>\n",
              "</table>\n",
              "</div>"
            ],
            "text/plain": [
              "    Loan_ID  Credit_History  ...  Property_Area_Semiurban  Property_Area_Urban\n",
              "0  LP001002             1.0  ...                        0                    1\n",
              "1  LP001003             1.0  ...                        0                    0\n",
              "2  LP001005             1.0  ...                        0                    1\n",
              "3  LP001006             1.0  ...                        0                    1\n",
              "4  LP001008             1.0  ...                        0                    1\n",
              "\n",
              "[5 rows x 22 columns]"
            ]
          },
          "metadata": {
            "tags": []
          },
          "execution_count": 37
        }
      ]
    },
    {
      "cell_type": "code",
      "metadata": {
        "id": "xO38a-0AwR1S",
        "colab_type": "code",
        "colab": {
          "base_uri": "https://localhost:8080/",
          "height": 241
        },
        "outputId": "92ad4371-3ed2-4427-ee02-f429bf66848e"
      },
      "source": [
        "X=train.drop([\"Loan_Status\", \"Loan_ID\"],1)\n",
        "X.head()"
      ],
      "execution_count": 38,
      "outputs": [
        {
          "output_type": "execute_result",
          "data": {
            "text/html": [
              "<div>\n",
              "<style scoped>\n",
              "    .dataframe tbody tr th:only-of-type {\n",
              "        vertical-align: middle;\n",
              "    }\n",
              "\n",
              "    .dataframe tbody tr th {\n",
              "        vertical-align: top;\n",
              "    }\n",
              "\n",
              "    .dataframe thead th {\n",
              "        text-align: right;\n",
              "    }\n",
              "</style>\n",
              "<table border=\"1\" class=\"dataframe\">\n",
              "  <thead>\n",
              "    <tr style=\"text-align: right;\">\n",
              "      <th></th>\n",
              "      <th>Credit_History</th>\n",
              "      <th>TotalIncome</th>\n",
              "      <th>Loan/month</th>\n",
              "      <th>LoanAmount_log</th>\n",
              "      <th>TotalIncome_log</th>\n",
              "      <th>Gender_Female</th>\n",
              "      <th>Gender_Male</th>\n",
              "      <th>Married_No</th>\n",
              "      <th>Married_Yes</th>\n",
              "      <th>Dependents_0</th>\n",
              "      <th>Dependents_1</th>\n",
              "      <th>Dependents_2</th>\n",
              "      <th>Dependents_3+</th>\n",
              "      <th>Education_Graduate</th>\n",
              "      <th>Education_Not Graduate</th>\n",
              "      <th>Self_Employed_No</th>\n",
              "      <th>Self_Employed_Yes</th>\n",
              "      <th>Property_Area_Rural</th>\n",
              "      <th>Property_Area_Semiurban</th>\n",
              "      <th>Property_Area_Urban</th>\n",
              "    </tr>\n",
              "  </thead>\n",
              "  <tbody>\n",
              "    <tr>\n",
              "      <th>0</th>\n",
              "      <td>1.0</td>\n",
              "      <td>5849.0</td>\n",
              "      <td>0.361111</td>\n",
              "      <td>4.867534</td>\n",
              "      <td>8.674026</td>\n",
              "      <td>0</td>\n",
              "      <td>1</td>\n",
              "      <td>1</td>\n",
              "      <td>0</td>\n",
              "      <td>1</td>\n",
              "      <td>0</td>\n",
              "      <td>0</td>\n",
              "      <td>0</td>\n",
              "      <td>1</td>\n",
              "      <td>0</td>\n",
              "      <td>1</td>\n",
              "      <td>0</td>\n",
              "      <td>0</td>\n",
              "      <td>0</td>\n",
              "      <td>1</td>\n",
              "    </tr>\n",
              "    <tr>\n",
              "      <th>1</th>\n",
              "      <td>1.0</td>\n",
              "      <td>6091.0</td>\n",
              "      <td>0.355556</td>\n",
              "      <td>4.852030</td>\n",
              "      <td>8.714568</td>\n",
              "      <td>0</td>\n",
              "      <td>1</td>\n",
              "      <td>0</td>\n",
              "      <td>1</td>\n",
              "      <td>0</td>\n",
              "      <td>1</td>\n",
              "      <td>0</td>\n",
              "      <td>0</td>\n",
              "      <td>1</td>\n",
              "      <td>0</td>\n",
              "      <td>1</td>\n",
              "      <td>0</td>\n",
              "      <td>1</td>\n",
              "      <td>0</td>\n",
              "      <td>0</td>\n",
              "    </tr>\n",
              "    <tr>\n",
              "      <th>2</th>\n",
              "      <td>1.0</td>\n",
              "      <td>3000.0</td>\n",
              "      <td>0.183333</td>\n",
              "      <td>4.189655</td>\n",
              "      <td>8.006368</td>\n",
              "      <td>0</td>\n",
              "      <td>1</td>\n",
              "      <td>0</td>\n",
              "      <td>1</td>\n",
              "      <td>1</td>\n",
              "      <td>0</td>\n",
              "      <td>0</td>\n",
              "      <td>0</td>\n",
              "      <td>1</td>\n",
              "      <td>0</td>\n",
              "      <td>0</td>\n",
              "      <td>1</td>\n",
              "      <td>0</td>\n",
              "      <td>0</td>\n",
              "      <td>1</td>\n",
              "    </tr>\n",
              "    <tr>\n",
              "      <th>3</th>\n",
              "      <td>1.0</td>\n",
              "      <td>4941.0</td>\n",
              "      <td>0.333333</td>\n",
              "      <td>4.787492</td>\n",
              "      <td>8.505323</td>\n",
              "      <td>0</td>\n",
              "      <td>1</td>\n",
              "      <td>0</td>\n",
              "      <td>1</td>\n",
              "      <td>1</td>\n",
              "      <td>0</td>\n",
              "      <td>0</td>\n",
              "      <td>0</td>\n",
              "      <td>0</td>\n",
              "      <td>1</td>\n",
              "      <td>1</td>\n",
              "      <td>0</td>\n",
              "      <td>0</td>\n",
              "      <td>0</td>\n",
              "      <td>1</td>\n",
              "    </tr>\n",
              "    <tr>\n",
              "      <th>4</th>\n",
              "      <td>1.0</td>\n",
              "      <td>6000.0</td>\n",
              "      <td>0.391667</td>\n",
              "      <td>4.948760</td>\n",
              "      <td>8.699515</td>\n",
              "      <td>0</td>\n",
              "      <td>1</td>\n",
              "      <td>1</td>\n",
              "      <td>0</td>\n",
              "      <td>1</td>\n",
              "      <td>0</td>\n",
              "      <td>0</td>\n",
              "      <td>0</td>\n",
              "      <td>1</td>\n",
              "      <td>0</td>\n",
              "      <td>1</td>\n",
              "      <td>0</td>\n",
              "      <td>0</td>\n",
              "      <td>0</td>\n",
              "      <td>1</td>\n",
              "    </tr>\n",
              "  </tbody>\n",
              "</table>\n",
              "</div>"
            ],
            "text/plain": [
              "   Credit_History  TotalIncome  ...  Property_Area_Semiurban  Property_Area_Urban\n",
              "0             1.0       5849.0  ...                        0                    1\n",
              "1             1.0       6091.0  ...                        0                    0\n",
              "2             1.0       3000.0  ...                        0                    1\n",
              "3             1.0       4941.0  ...                        0                    1\n",
              "4             1.0       6000.0  ...                        0                    1\n",
              "\n",
              "[5 rows x 20 columns]"
            ]
          },
          "metadata": {
            "tags": []
          },
          "execution_count": 38
        }
      ]
    },
    {
      "cell_type": "code",
      "metadata": {
        "id": "MXfQShG3wZR-",
        "colab_type": "code",
        "colab": {
          "base_uri": "https://localhost:8080/",
          "height": 111
        },
        "outputId": "e43efcd8-84e1-40ec-dd28-8d4c2cbb231e"
      },
      "source": [
        "y=train[[\"Loan_Status\"]]\n",
        "y.head(2)"
      ],
      "execution_count": 39,
      "outputs": [
        {
          "output_type": "execute_result",
          "data": {
            "text/html": [
              "<div>\n",
              "<style scoped>\n",
              "    .dataframe tbody tr th:only-of-type {\n",
              "        vertical-align: middle;\n",
              "    }\n",
              "\n",
              "    .dataframe tbody tr th {\n",
              "        vertical-align: top;\n",
              "    }\n",
              "\n",
              "    .dataframe thead th {\n",
              "        text-align: right;\n",
              "    }\n",
              "</style>\n",
              "<table border=\"1\" class=\"dataframe\">\n",
              "  <thead>\n",
              "    <tr style=\"text-align: right;\">\n",
              "      <th></th>\n",
              "      <th>Loan_Status</th>\n",
              "    </tr>\n",
              "  </thead>\n",
              "  <tbody>\n",
              "    <tr>\n",
              "      <th>0</th>\n",
              "      <td>1</td>\n",
              "    </tr>\n",
              "    <tr>\n",
              "      <th>1</th>\n",
              "      <td>0</td>\n",
              "    </tr>\n",
              "  </tbody>\n",
              "</table>\n",
              "</div>"
            ],
            "text/plain": [
              "   Loan_Status\n",
              "0            1\n",
              "1            0"
            ]
          },
          "metadata": {
            "tags": []
          },
          "execution_count": 39
        }
      ]
    },
    {
      "cell_type": "code",
      "metadata": {
        "id": "pfn2DNyixyLY",
        "colab_type": "code",
        "colab": {}
      },
      "source": [
        "from sklearn.model_selection import train_test_split"
      ],
      "execution_count": 40,
      "outputs": []
    },
    {
      "cell_type": "code",
      "metadata": {
        "id": "K-WyqChHx0v5",
        "colab_type": "code",
        "colab": {}
      },
      "source": [
        "x_train,x_cv,y_train,y_cv=train_test_split(X,y,test_size=0.3,random_state=1)"
      ],
      "execution_count": 41,
      "outputs": []
    },
    {
      "cell_type": "markdown",
      "metadata": {
        "id": "S8SQuKcS1XTM",
        "colab_type": "text"
      },
      "source": [
        "Dividi conjunto de dados em teste e treinamento com o objetivo de evitar o overfitting.\n",
        "\n",
        "Irei começar com regressão logística."
      ]
    },
    {
      "cell_type": "code",
      "metadata": {
        "id": "-dhNIAKFzVcX",
        "colab_type": "code",
        "colab": {}
      },
      "source": [
        "from sklearn.linear_model import LogisticRegression\n",
        "from sklearn.metrics import accuracy_score"
      ],
      "execution_count": 42,
      "outputs": []
    },
    {
      "cell_type": "code",
      "metadata": {
        "id": "yVJjtidJzuAo",
        "colab_type": "code",
        "colab": {}
      },
      "source": [
        "logistic_model = LogisticRegression(random_state=1)"
      ],
      "execution_count": 43,
      "outputs": []
    },
    {
      "cell_type": "code",
      "metadata": {
        "id": "5uoBGen00HrS",
        "colab_type": "code",
        "colab": {
          "base_uri": "https://localhost:8080/",
          "height": 156
        },
        "outputId": "4d5a604c-e3a3-4f02-f6b6-d3c04f9692ea"
      },
      "source": [
        "logistic_model.fit(x_train,y_train)"
      ],
      "execution_count": 44,
      "outputs": [
        {
          "output_type": "stream",
          "text": [
            "/usr/local/lib/python3.6/dist-packages/sklearn/utils/validation.py:760: DataConversionWarning: A column-vector y was passed when a 1d array was expected. Please change the shape of y to (n_samples, ), for example using ravel().\n",
            "  y = column_or_1d(y, warn=True)\n"
          ],
          "name": "stderr"
        },
        {
          "output_type": "execute_result",
          "data": {
            "text/plain": [
              "LogisticRegression(C=1.0, class_weight=None, dual=False, fit_intercept=True,\n",
              "                   intercept_scaling=1, l1_ratio=None, max_iter=100,\n",
              "                   multi_class='auto', n_jobs=None, penalty='l2',\n",
              "                   random_state=1, solver='lbfgs', tol=0.0001, verbose=0,\n",
              "                   warm_start=False)"
            ]
          },
          "metadata": {
            "tags": []
          },
          "execution_count": 44
        }
      ]
    },
    {
      "cell_type": "code",
      "metadata": {
        "id": "rGtu14WOzxYs",
        "colab_type": "code",
        "colab": {}
      },
      "source": [
        "pred_cv_logistic=logistic_model.predict(x_cv)"
      ],
      "execution_count": 45,
      "outputs": []
    },
    {
      "cell_type": "code",
      "metadata": {
        "id": "SM795I4Lz9pC",
        "colab_type": "code",
        "colab": {}
      },
      "source": [
        "score_logistic =accuracy_score(pred_cv_logistic,y_cv)*100 "
      ],
      "execution_count": 46,
      "outputs": []
    },
    {
      "cell_type": "code",
      "metadata": {
        "id": "_nvec5Sw0X-C",
        "colab_type": "code",
        "colab": {
          "base_uri": "https://localhost:8080/",
          "height": 34
        },
        "outputId": "a28edc9f-15db-4c36-956b-430a80efab92"
      },
      "source": [
        "score_logistic"
      ],
      "execution_count": 47,
      "outputs": [
        {
          "output_type": "execute_result",
          "data": {
            "text/plain": [
              "78.91891891891892"
            ]
          },
          "metadata": {
            "tags": []
          },
          "execution_count": 47
        }
      ]
    },
    {
      "cell_type": "markdown",
      "metadata": {
        "id": "b0peKVHv4U6x",
        "colab_type": "text"
      },
      "source": [
        "Como o modelo acerta 79% das vezes, temos um bom poder de previsão, mas poderia ser maior."
      ]
    },
    {
      "cell_type": "code",
      "metadata": {
        "id": "AU75fi384Srl",
        "colab_type": "code",
        "colab": {}
      },
      "source": [
        "test1 = test.drop('Loan_ID', axis=1)\n",
        "pred_test_logistic = logistic_model.predict(test1)"
      ],
      "execution_count": 48,
      "outputs": []
    },
    {
      "cell_type": "code",
      "metadata": {
        "id": "e-UY1PqlU7_q",
        "colab_type": "code",
        "colab": {
          "base_uri": "https://localhost:8080/",
          "height": 241
        },
        "outputId": "2f8d4211-3d85-4353-f537-2663c8762ee0"
      },
      "source": [
        "test.head()"
      ],
      "execution_count": 49,
      "outputs": [
        {
          "output_type": "execute_result",
          "data": {
            "text/html": [
              "<div>\n",
              "<style scoped>\n",
              "    .dataframe tbody tr th:only-of-type {\n",
              "        vertical-align: middle;\n",
              "    }\n",
              "\n",
              "    .dataframe tbody tr th {\n",
              "        vertical-align: top;\n",
              "    }\n",
              "\n",
              "    .dataframe thead th {\n",
              "        text-align: right;\n",
              "    }\n",
              "</style>\n",
              "<table border=\"1\" class=\"dataframe\">\n",
              "  <thead>\n",
              "    <tr style=\"text-align: right;\">\n",
              "      <th></th>\n",
              "      <th>Loan_ID</th>\n",
              "      <th>Credit_History</th>\n",
              "      <th>TotalIncome</th>\n",
              "      <th>Loan/month</th>\n",
              "      <th>LoanAmount_log</th>\n",
              "      <th>TotalIncome_log</th>\n",
              "      <th>Gender_Female</th>\n",
              "      <th>Gender_Male</th>\n",
              "      <th>Married_No</th>\n",
              "      <th>Married_Yes</th>\n",
              "      <th>Dependents_0</th>\n",
              "      <th>Dependents_1</th>\n",
              "      <th>Dependents_2</th>\n",
              "      <th>Dependents_3+</th>\n",
              "      <th>Education_Graduate</th>\n",
              "      <th>Education_Not Graduate</th>\n",
              "      <th>Self_Employed_No</th>\n",
              "      <th>Self_Employed_Yes</th>\n",
              "      <th>Property_Area_Rural</th>\n",
              "      <th>Property_Area_Semiurban</th>\n",
              "      <th>Property_Area_Urban</th>\n",
              "    </tr>\n",
              "  </thead>\n",
              "  <tbody>\n",
              "    <tr>\n",
              "      <th>614</th>\n",
              "      <td>LP001015</td>\n",
              "      <td>1.0</td>\n",
              "      <td>5720.0</td>\n",
              "      <td>0.305556</td>\n",
              "      <td>4.700480</td>\n",
              "      <td>8.651724</td>\n",
              "      <td>0</td>\n",
              "      <td>1</td>\n",
              "      <td>0</td>\n",
              "      <td>1</td>\n",
              "      <td>1</td>\n",
              "      <td>0</td>\n",
              "      <td>0</td>\n",
              "      <td>0</td>\n",
              "      <td>1</td>\n",
              "      <td>0</td>\n",
              "      <td>1</td>\n",
              "      <td>0</td>\n",
              "      <td>0</td>\n",
              "      <td>0</td>\n",
              "      <td>1</td>\n",
              "    </tr>\n",
              "    <tr>\n",
              "      <th>615</th>\n",
              "      <td>LP001022</td>\n",
              "      <td>1.0</td>\n",
              "      <td>4576.0</td>\n",
              "      <td>0.350000</td>\n",
              "      <td>4.836282</td>\n",
              "      <td>8.428581</td>\n",
              "      <td>0</td>\n",
              "      <td>1</td>\n",
              "      <td>0</td>\n",
              "      <td>1</td>\n",
              "      <td>0</td>\n",
              "      <td>1</td>\n",
              "      <td>0</td>\n",
              "      <td>0</td>\n",
              "      <td>1</td>\n",
              "      <td>0</td>\n",
              "      <td>1</td>\n",
              "      <td>0</td>\n",
              "      <td>0</td>\n",
              "      <td>0</td>\n",
              "      <td>1</td>\n",
              "    </tr>\n",
              "    <tr>\n",
              "      <th>616</th>\n",
              "      <td>LP001031</td>\n",
              "      <td>1.0</td>\n",
              "      <td>6800.0</td>\n",
              "      <td>0.577778</td>\n",
              "      <td>5.337538</td>\n",
              "      <td>8.824678</td>\n",
              "      <td>0</td>\n",
              "      <td>1</td>\n",
              "      <td>0</td>\n",
              "      <td>1</td>\n",
              "      <td>0</td>\n",
              "      <td>0</td>\n",
              "      <td>1</td>\n",
              "      <td>0</td>\n",
              "      <td>1</td>\n",
              "      <td>0</td>\n",
              "      <td>1</td>\n",
              "      <td>0</td>\n",
              "      <td>0</td>\n",
              "      <td>0</td>\n",
              "      <td>1</td>\n",
              "    </tr>\n",
              "    <tr>\n",
              "      <th>617</th>\n",
              "      <td>LP001035</td>\n",
              "      <td>1.0</td>\n",
              "      <td>4886.0</td>\n",
              "      <td>0.277778</td>\n",
              "      <td>4.605170</td>\n",
              "      <td>8.494129</td>\n",
              "      <td>0</td>\n",
              "      <td>1</td>\n",
              "      <td>0</td>\n",
              "      <td>1</td>\n",
              "      <td>0</td>\n",
              "      <td>0</td>\n",
              "      <td>1</td>\n",
              "      <td>0</td>\n",
              "      <td>1</td>\n",
              "      <td>0</td>\n",
              "      <td>1</td>\n",
              "      <td>0</td>\n",
              "      <td>0</td>\n",
              "      <td>0</td>\n",
              "      <td>1</td>\n",
              "    </tr>\n",
              "    <tr>\n",
              "      <th>618</th>\n",
              "      <td>LP001051</td>\n",
              "      <td>1.0</td>\n",
              "      <td>3276.0</td>\n",
              "      <td>0.216667</td>\n",
              "      <td>4.356709</td>\n",
              "      <td>8.094378</td>\n",
              "      <td>0</td>\n",
              "      <td>1</td>\n",
              "      <td>1</td>\n",
              "      <td>0</td>\n",
              "      <td>1</td>\n",
              "      <td>0</td>\n",
              "      <td>0</td>\n",
              "      <td>0</td>\n",
              "      <td>0</td>\n",
              "      <td>1</td>\n",
              "      <td>1</td>\n",
              "      <td>0</td>\n",
              "      <td>0</td>\n",
              "      <td>0</td>\n",
              "      <td>1</td>\n",
              "    </tr>\n",
              "  </tbody>\n",
              "</table>\n",
              "</div>"
            ],
            "text/plain": [
              "      Loan_ID  Credit_History  ...  Property_Area_Semiurban  Property_Area_Urban\n",
              "614  LP001015             1.0  ...                        0                    1\n",
              "615  LP001022             1.0  ...                        0                    1\n",
              "616  LP001031             1.0  ...                        0                    1\n",
              "617  LP001035             1.0  ...                        0                    1\n",
              "618  LP001051             1.0  ...                        0                    1\n",
              "\n",
              "[5 rows x 21 columns]"
            ]
          },
          "metadata": {
            "tags": []
          },
          "execution_count": 49
        }
      ]
    },
    {
      "cell_type": "markdown",
      "metadata": {
        "id": "HQrcxTeg08CG",
        "colab_type": "text"
      },
      "source": [
        "Irei criar uma função para gerar uma submissão para o site Analytics Vidhya"
      ]
    },
    {
      "cell_type": "code",
      "metadata": {
        "id": "csABCjI1FaMC",
        "colab_type": "code",
        "colab": {}
      },
      "source": [
        "def submission(filename, teste):\n",
        "  IDcol = ['Loan_ID','Loan_Status']\n",
        "  test_g=test\n",
        "  test_g['Loan_Status'] = teste\n",
        "  submission = pd.DataFrame({ x: test_g[x] for x in IDcol})\n",
        "  submission['Loan_Status'] = submission['Loan_Status'].apply(lambda x: \"Y\" if x == 1 else \"N\")\n",
        "  submission.to_csv(filename, index=False)"
      ],
      "execution_count": 50,
      "outputs": []
    },
    {
      "cell_type": "code",
      "metadata": {
        "id": "GdcXbUjnG0Kc",
        "colab_type": "code",
        "colab": {}
      },
      "source": [
        "submission(\"sub1.csv\", pred_test_logistic)"
      ],
      "execution_count": 51,
      "outputs": []
    },
    {
      "cell_type": "code",
      "metadata": {
        "id": "tgrMzainVVzb",
        "colab_type": "code",
        "colab": {}
      },
      "source": [
        "test.drop(['Loan_Status'], axis=1, inplace=True)"
      ],
      "execution_count": 52,
      "outputs": []
    },
    {
      "cell_type": "code",
      "metadata": {
        "id": "VEpZ7bJ81HHY",
        "colab_type": "code",
        "colab": {
          "base_uri": "https://localhost:8080/",
          "height": 88
        },
        "outputId": "19e535b6-656e-4f34-866d-f94367e162a3"
      },
      "source": [
        "from sklearn.ensemble import RandomForestClassifier\n",
        "forest_model = RandomForestClassifier(random_state=1,max_depth=10,n_estimators=50)\n",
        "forest_model.fit(x_train,y_train)\n",
        "pred_cv_forest=forest_model.predict(x_cv)\n",
        "score_forest = accuracy_score(pred_cv_forest,y_cv)*100\n",
        "score_forest"
      ],
      "execution_count": 53,
      "outputs": [
        {
          "output_type": "stream",
          "text": [
            "/usr/local/lib/python3.6/dist-packages/ipykernel_launcher.py:3: DataConversionWarning: A column-vector y was passed when a 1d array was expected. Please change the shape of y to (n_samples,), for example using ravel().\n",
            "  This is separate from the ipykernel package so we can avoid doing imports until\n"
          ],
          "name": "stderr"
        },
        {
          "output_type": "execute_result",
          "data": {
            "text/plain": [
              "76.75675675675676"
            ]
          },
          "metadata": {
            "tags": []
          },
          "execution_count": 53
        }
      ]
    },
    {
      "cell_type": "code",
      "metadata": {
        "id": "GfTl7vMG4Ae_",
        "colab_type": "code",
        "colab": {
          "base_uri": "https://localhost:8080/",
          "height": 122
        },
        "outputId": "956449b5-d356-4ff3-897d-b450b8988087"
      },
      "source": [
        "from xgboost import XGBClassifier\n",
        "xgb_model = XGBClassifier(n_estimators=50,max_depth=4)\n",
        "xgb_model.fit(x_train,y_train)\n",
        "pred_xgb=xgb_model.predict(x_cv)\n",
        "score_xgb = accuracy_score(pred_xgb,y_cv)*100\n",
        "score_xgb"
      ],
      "execution_count": 54,
      "outputs": [
        {
          "output_type": "stream",
          "text": [
            "/usr/local/lib/python3.6/dist-packages/sklearn/preprocessing/_label.py:235: DataConversionWarning: A column-vector y was passed when a 1d array was expected. Please change the shape of y to (n_samples, ), for example using ravel().\n",
            "  y = column_or_1d(y, warn=True)\n",
            "/usr/local/lib/python3.6/dist-packages/sklearn/preprocessing/_label.py:268: DataConversionWarning: A column-vector y was passed when a 1d array was expected. Please change the shape of y to (n_samples, ), for example using ravel().\n",
            "  y = column_or_1d(y, warn=True)\n"
          ],
          "name": "stderr"
        },
        {
          "output_type": "execute_result",
          "data": {
            "text/plain": [
              "77.83783783783784"
            ]
          },
          "metadata": {
            "tags": []
          },
          "execution_count": 54
        }
      ]
    },
    {
      "cell_type": "markdown",
      "metadata": {
        "id": "bIyzDuqmwxoT",
        "colab_type": "text"
      },
      "source": [
        "O regressão logistica se saiu melhor."
      ]
    },
    {
      "cell_type": "code",
      "metadata": {
        "id": "Ibgqa3kO3NQc",
        "colab_type": "code",
        "colab": {
          "base_uri": "https://localhost:8080/",
          "height": 500
        },
        "outputId": "4d48a617-e698-4804-b780-84932c16c6cd"
      },
      "source": [
        "importances = pd.Series(forest_model.feature_importances_,index=X.columns)\n",
        "importances.plot(kind='barh', figsize=(12,8))"
      ],
      "execution_count": 55,
      "outputs": [
        {
          "output_type": "execute_result",
          "data": {
            "text/plain": [
              "<matplotlib.axes._subplots.AxesSubplot at 0x7f35d20ac438>"
            ]
          },
          "metadata": {
            "tags": []
          },
          "execution_count": 55
        },
        {
          "output_type": "display_data",
          "data": {
            "image/png": "[encoded data removed]",
            "text/plain": [
              "<Figure size 864x576 with 1 Axes>"
            ]
          },
          "metadata": {
            "tags": [],
            "needs_background": "light"
          }
        }
      ]
    },
    {
      "cell_type": "markdown",
      "metadata": {
        "id": "1FVachPV4utX",
        "colab_type": "text"
      },
      "source": [
        "Aqui confirmamos o que foi dito anteriormente e vemos que o Credit_History é o fator mais importante,"
      ]
    }
  ]
}